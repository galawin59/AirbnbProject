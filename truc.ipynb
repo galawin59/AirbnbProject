{
 "cells": [
  {
   "cell_type": "code",
   "execution_count": 157,
   "metadata": {},
   "outputs": [
    {
     "ename": "ModuleNotFoundError",
     "evalue": "No module named 'matplotlib'",
     "output_type": "error",
     "traceback": [
      "\u001b[0;31m---------------------------------------------------------------------------\u001b[0m",
      "\u001b[0;31mModuleNotFoundError\u001b[0m                       Traceback (most recent call last)",
      "Cell \u001b[0;32mIn [157], line 3\u001b[0m\n\u001b[1;32m      1\u001b[0m \u001b[39mimport\u001b[39;00m \u001b[39mpandas\u001b[39;00m \u001b[39mas\u001b[39;00m \u001b[39mpd\u001b[39;00m\n\u001b[1;32m      2\u001b[0m \u001b[39mimport\u001b[39;00m \u001b[39mnumpy\u001b[39;00m \u001b[39mas\u001b[39;00m \u001b[39mnp\u001b[39;00m \n\u001b[0;32m----> 3\u001b[0m \u001b[39mimport\u001b[39;00m \u001b[39mmatplotlib\u001b[39;00m\u001b[39m.\u001b[39;00m\u001b[39mpyplot\u001b[39;00m \u001b[39mas\u001b[39;00m \u001b[39mplt\u001b[39;00m\n",
      "\u001b[0;31mModuleNotFoundError\u001b[0m: No module named 'matplotlib'"
     ]
    }
   ],
   "source": [
    "import pandas as pd\n",
    "import numpy as np \n",
    "import matplotlib.pyplot as plt\n"
   ]
  },
  {
   "cell_type": "code",
   "execution_count": 87,
   "metadata": {},
   "outputs": [],
   "source": [
    "pf = pd.read_csv(\"listings.csv\")"
   ]
  },
  {
   "cell_type": "markdown",
   "metadata": {},
   "source": [
    "Quel sont les pourcentages d'acceptation et de réponse moyen des host ?"
   ]
  },
  {
   "cell_type": "code",
   "execution_count": 88,
   "metadata": {},
   "outputs": [
    {
     "data": {
      "text/plain": [
       "Index(['id', 'listing_url', 'scrape_id', 'last_scraped', 'source', 'name',\n",
       "       'description', 'neighborhood_overview', 'picture_url', 'host_id',\n",
       "       'host_url', 'host_name', 'host_since', 'host_location', 'host_about',\n",
       "       'host_response_time', 'host_response_rate', 'host_acceptance_rate',\n",
       "       'host_is_superhost', 'host_thumbnail_url', 'host_picture_url',\n",
       "       'host_neighbourhood', 'host_listings_count',\n",
       "       'host_total_listings_count', 'host_verifications',\n",
       "       'host_has_profile_pic', 'host_identity_verified', 'neighbourhood',\n",
       "       'neighbourhood_cleansed', 'neighbourhood_group_cleansed', 'latitude',\n",
       "       'longitude', 'property_type', 'room_type', 'accommodates', 'bathrooms',\n",
       "       'bathrooms_text', 'bedrooms', 'beds', 'amenities', 'price',\n",
       "       'minimum_nights', 'maximum_nights', 'minimum_minimum_nights',\n",
       "       'maximum_minimum_nights', 'minimum_maximum_nights',\n",
       "       'maximum_maximum_nights', 'minimum_nights_avg_ntm',\n",
       "       'maximum_nights_avg_ntm', 'calendar_updated', 'has_availability',\n",
       "       'availability_30', 'availability_60', 'availability_90',\n",
       "       'availability_365', 'calendar_last_scraped', 'number_of_reviews',\n",
       "       'number_of_reviews_ltm', 'number_of_reviews_l30d', 'first_review',\n",
       "       'last_review', 'review_scores_rating', 'review_scores_accuracy',\n",
       "       'review_scores_cleanliness', 'review_scores_checkin',\n",
       "       'review_scores_communication', 'review_scores_location',\n",
       "       'review_scores_value', 'license', 'instant_bookable',\n",
       "       'calculated_host_listings_count',\n",
       "       'calculated_host_listings_count_entire_homes',\n",
       "       'calculated_host_listings_count_private_rooms',\n",
       "       'calculated_host_listings_count_shared_rooms', 'reviews_per_month'],\n",
       "      dtype='object')"
      ]
     },
     "execution_count": 88,
     "metadata": {},
     "output_type": "execute_result"
    }
   ],
   "source": [
    "pf.columns"
   ]
  },
  {
   "cell_type": "code",
   "execution_count": 89,
   "metadata": {},
   "outputs": [
    {
     "data": {
      "text/plain": [
       "neighbourhood_group_cleansed\n",
       "Ambars-et-Lagrave               65\n",
       "Ambs                            49\n",
       "Artigues-Prs-Bordeaux           91\n",
       "Bassens                         30\n",
       "Bgles                          375\n",
       "Blanquefort                     97\n",
       "Bordeaux                      4622\n",
       "Bouliac                         72\n",
       "Bruges                         163\n",
       "Carbon-Blanc                    42\n",
       "Cenon                          203\n",
       "Eysines                        133\n",
       "Floirac                        122\n",
       "Gradignan                      159\n",
       "Le Bouscat                     270\n",
       "Le Haillan                      43\n",
       "Le Taillan-Mdoc                 68\n",
       "Lormont                        118\n",
       "Martignas-sur-Jalle             58\n",
       "Merignac                       518\n",
       "Parempuyre                      51\n",
       "Pessac                         427\n",
       "Saint-Aubin-de-Mdoc             80\n",
       "Saint-Louis-de-Montferrand      12\n",
       "Saint-Mdard-en-Jalles          188\n",
       "Saint-Vincent-de-Paul           28\n",
       "Talence                        429\n",
       "Villenave-d'Ornon              287\n",
       "Name: host_id, dtype: int64"
      ]
     },
     "execution_count": 89,
     "metadata": {},
     "output_type": "execute_result"
    }
   ],
   "source": [
    "listGroupbyNeight =  pf.groupby(pf.neighbourhood_group_cleansed)\n",
    "listGroupbyNeight.host_id.nunique()\n"
   ]
  },
  {
   "cell_type": "code",
   "execution_count": 90,
   "metadata": {},
   "outputs": [
    {
     "data": {
      "text/plain": [
       "neighbourhood_group_cleansed\n",
       "Ambars-et-Lagrave                904\n",
       "Ambs                            1714\n",
       "Artigues-Prs-Bordeaux           2519\n",
       "Bassens                          488\n",
       "Bgles                           9599\n",
       "Blanquefort                     2161\n",
       "Bordeaux                      190852\n",
       "Bouliac                         2532\n",
       "Bruges                          3011\n",
       "Carbon-Blanc                    1038\n",
       "Cenon                           6484\n",
       "Eysines                         2824\n",
       "Floirac                         5696\n",
       "Gradignan                       4002\n",
       "Le Bouscat                      6257\n",
       "Le Haillan                       893\n",
       "Le Taillan-Mdoc                 1098\n",
       "Lormont                         3136\n",
       "Martignas-sur-Jalle              968\n",
       "Merignac                       12829\n",
       "Parempuyre                      1641\n",
       "Pessac                         15127\n",
       "Saint-Aubin-de-Mdoc             1199\n",
       "Saint-Louis-de-Montferrand       161\n",
       "Saint-Mdard-en-Jalles           5576\n",
       "Saint-Vincent-de-Paul            812\n",
       "Talence                        13571\n",
       "Villenave-d'Ornon               9264\n",
       "Name: number_of_reviews, dtype: int64"
      ]
     },
     "execution_count": 90,
     "metadata": {},
     "output_type": "execute_result"
    }
   ],
   "source": [
    "listGroupbyNeight.number_of_reviews.sum()"
   ]
  },
  {
   "cell_type": "code",
   "execution_count": 91,
   "metadata": {},
   "outputs": [
    {
     "data": {
      "text/plain": [
       "neighbourhood_group_cleansed\n",
       "Ambars-et-Lagrave               69\n",
       "Ambs                            57\n",
       "Artigues-Prs-Bordeaux          111\n",
       "Bassens                         32\n",
       "Bgles                          410\n",
       "Blanquefort                    113\n",
       "Bordeaux                      6051\n",
       "Bouliac                         95\n",
       "Bruges                         183\n",
       "Carbon-Blanc                    50\n",
       "Cenon                          230\n",
       "Eysines                        156\n",
       "Floirac                        137\n",
       "Gradignan                      190\n",
       "Le Bouscat                     297\n",
       "Le Haillan                      45\n",
       "Le Taillan-Mdoc                 80\n",
       "Lormont                        133\n",
       "Martignas-sur-Jalle             71\n",
       "Merignac                       597\n",
       "Parempuyre                      57\n",
       "Pessac                         532\n",
       "Saint-Aubin-de-Mdoc             88\n",
       "Saint-Louis-de-Montferrand      16\n",
       "Saint-Mdard-en-Jalles          238\n",
       "Saint-Vincent-de-Paul           33\n",
       "Talence                        494\n",
       "Villenave-d'Ornon              320\n",
       "Name: number_of_reviews, dtype: int64"
      ]
     },
     "execution_count": 91,
     "metadata": {},
     "output_type": "execute_result"
    }
   ],
   "source": [
    "listGroupbyNeight.number_of_reviews.count()"
   ]
  },
  {
   "cell_type": "markdown",
   "metadata": {},
   "source": [
    "ON A DONC LA REPONSE A LA QUESTION 1"
   ]
  },
  {
   "cell_type": "code",
   "execution_count": 92,
   "metadata": {},
   "outputs": [
    {
     "name": "stderr",
     "output_type": "stream",
     "text": [
      "/tmp/ipykernel_5780/2931620437.py:2: SettingWithCopyWarning: \n",
      "A value is trying to be set on a copy of a slice from a DataFrame.\n",
      "Try using .loc[row_indexer,col_indexer] = value instead\n",
      "\n",
      "See the caveats in the documentation: https://pandas.pydata.org/pandas-docs/stable/user_guide/indexing.html#returning-a-view-versus-a-copy\n",
      "  truc.amenities = truc.amenities.astype(\"string\")\n",
      "/tmp/ipykernel_5780/2931620437.py:3: SettingWithCopyWarning: \n",
      "A value is trying to be set on a copy of a slice from a DataFrame.\n",
      "Try using .loc[row_indexer,col_indexer] = value instead\n",
      "\n",
      "See the caveats in the documentation: https://pandas.pydata.org/pandas-docs/stable/user_guide/indexing.html#returning-a-view-versus-a-copy\n",
      "  truc[\"lenght\"] = truc.amenities.str.count(\",\")\n",
      "/tmp/ipykernel_5780/2931620437.py:4: SettingWithCopyWarning: \n",
      "A value is trying to be set on a copy of a slice from a DataFrame.\n",
      "Try using .loc[row_indexer,col_indexer] = value instead\n",
      "\n",
      "See the caveats in the documentation: https://pandas.pydata.org/pandas-docs/stable/user_guide/indexing.html#returning-a-view-versus-a-copy\n",
      "  truc[\"lenght\"] = truc.lenght.astype(int)\n"
     ]
    },
    {
     "data": {
      "text/plain": [
       "0        39\n",
       "1        37\n",
       "2        30\n",
       "3        25\n",
       "4        35\n",
       "         ..\n",
       "10880    60\n",
       "10881    40\n",
       "10882    40\n",
       "10883    63\n",
       "10884    48\n",
       "Name: lenght, Length: 10885, dtype: int64"
      ]
     },
     "execution_count": 92,
     "metadata": {},
     "output_type": "execute_result"
    }
   ],
   "source": [
    "truc = pf[[\"room_type\",\"amenities\"]]\n",
    "truc.amenities = truc.amenities.astype(\"string\")\n",
    "truc[\"lenght\"] = truc.amenities.str.count(\",\")\n",
    "truc[\"lenght\"] = truc.lenght.astype(int)\n",
    "truc.lenght.apply(lambda x:x+1)"
   ]
  },
  {
   "cell_type": "code",
   "execution_count": 93,
   "metadata": {},
   "outputs": [
    {
     "name": "stderr",
     "output_type": "stream",
     "text": [
      "/tmp/ipykernel_5780/3601735976.py:1: FutureWarning: The default value of numeric_only in DataFrameGroupBy.mean is deprecated. In a future version, numeric_only will default to False. Either specify numeric_only or select only columns which should be valid for the function.\n",
      "  q1 = truc.groupby(\"room_type\").mean()\n"
     ]
    }
   ],
   "source": [
    "q1 = truc.groupby(\"room_type\").mean()"
   ]
  },
  {
   "cell_type": "code",
   "execution_count": 94,
   "metadata": {},
   "outputs": [],
   "source": [
    "q1.to_csv(\"premiere_question.csv\")"
   ]
  },
  {
   "cell_type": "code",
   "execution_count": 95,
   "metadata": {},
   "outputs": [
    {
     "name": "stderr",
     "output_type": "stream",
     "text": [
      "/tmp/ipykernel_5780/2260980100.py:1: FutureWarning: The default value of numeric_only in DataFrameGroupBy.std is deprecated. In a future version, numeric_only will default to False. Either specify numeric_only or select only columns which should be valid for the function.\n",
      "  q1_2 = truc.groupby(\"room_type\").std()\n"
     ]
    }
   ],
   "source": [
    "q1_2 = truc.groupby(\"room_type\").std() \n",
    "q1_2.to_csv(\"premierequestiond.csv\")"
   ]
  },
  {
   "cell_type": "code",
   "execution_count": 150,
   "metadata": {},
   "outputs": [],
   "source": [
    "q3 = q1 +"
   ]
  },
  {
   "cell_type": "code",
   "execution_count": 151,
   "metadata": {},
   "outputs": [
    {
     "data": {
      "text/html": [
       "<div>\n",
       "<style scoped>\n",
       "    .dataframe tbody tr th:only-of-type {\n",
       "        vertical-align: middle;\n",
       "    }\n",
       "\n",
       "    .dataframe tbody tr th {\n",
       "        vertical-align: top;\n",
       "    }\n",
       "\n",
       "    .dataframe thead th {\n",
       "        text-align: right;\n",
       "    }\n",
       "</style>\n",
       "<table border=\"1\" class=\"dataframe\">\n",
       "  <thead>\n",
       "    <tr style=\"text-align: right;\">\n",
       "      <th></th>\n",
       "      <th>lenght</th>\n",
       "    </tr>\n",
       "    <tr>\n",
       "      <th>room_type</th>\n",
       "      <th></th>\n",
       "    </tr>\n",
       "  </thead>\n",
       "  <tbody>\n",
       "    <tr>\n",
       "      <th>Entire home/apt</th>\n",
       "      <td>40.782157</td>\n",
       "    </tr>\n",
       "    <tr>\n",
       "      <th>Hotel room</th>\n",
       "      <td>39.636636</td>\n",
       "    </tr>\n",
       "    <tr>\n",
       "      <th>Private room</th>\n",
       "      <td>32.803771</td>\n",
       "    </tr>\n",
       "    <tr>\n",
       "      <th>Shared room</th>\n",
       "      <td>22.369180</td>\n",
       "    </tr>\n",
       "  </tbody>\n",
       "</table>\n",
       "</div>"
      ],
      "text/plain": [
       "                    lenght\n",
       "room_type                 \n",
       "Entire home/apt  40.782157\n",
       "Hotel room       39.636636\n",
       "Private room     32.803771\n",
       "Shared room      22.369180"
      ]
     },
     "execution_count": 151,
     "metadata": {},
     "output_type": "execute_result"
    }
   ],
   "source": [
    "q3"
   ]
  },
  {
   "cell_type": "code",
   "execution_count": 96,
   "metadata": {},
   "outputs": [
    {
     "name": "stderr",
     "output_type": "stream",
     "text": [
      "/tmp/ipykernel_5780/2103419292.py:2: FutureWarning: The default value of regex will change from True to False in a future version. In addition, single character regular expressions will *not* be treated as literal strings when regex=True.\n",
      "  listingPrice[\"price\"] = listingPrice[\"price\"].str.replace(\"$\",\"\").str.replace(\",\",\"\").astype(\"float\")\n",
      "/tmp/ipykernel_5780/2103419292.py:2: SettingWithCopyWarning: \n",
      "A value is trying to be set on a copy of a slice from a DataFrame.\n",
      "Try using .loc[row_indexer,col_indexer] = value instead\n",
      "\n",
      "See the caveats in the documentation: https://pandas.pydata.org/pandas-docs/stable/user_guide/indexing.html#returning-a-view-versus-a-copy\n",
      "  listingPrice[\"price\"] = listingPrice[\"price\"].str.replace(\"$\",\"\").str.replace(\",\",\"\").astype(\"float\")\n"
     ]
    }
   ],
   "source": [
    "listingPrice = pf[[\"room_type\",\"price\"]]\n",
    "listingPrice[\"price\"] = listingPrice[\"price\"].str.replace(\"$\",\"\").str.replace(\",\",\"\").astype(\"float\")\n",
    "quartile_et_autre = listingPrice.groupby(listingPrice.room_type).describe()"
   ]
  },
  {
   "cell_type": "code",
   "execution_count": 152,
   "metadata": {},
   "outputs": [
    {
     "data": {
      "text/html": [
       "<div>\n",
       "<style scoped>\n",
       "    .dataframe tbody tr th:only-of-type {\n",
       "        vertical-align: middle;\n",
       "    }\n",
       "\n",
       "    .dataframe tbody tr th {\n",
       "        vertical-align: top;\n",
       "    }\n",
       "\n",
       "    .dataframe thead tr th {\n",
       "        text-align: left;\n",
       "    }\n",
       "\n",
       "    .dataframe thead tr:last-of-type th {\n",
       "        text-align: right;\n",
       "    }\n",
       "</style>\n",
       "<table border=\"1\" class=\"dataframe\">\n",
       "  <thead>\n",
       "    <tr>\n",
       "      <th></th>\n",
       "      <th colspan=\"8\" halign=\"left\">price</th>\n",
       "    </tr>\n",
       "    <tr>\n",
       "      <th></th>\n",
       "      <th>count</th>\n",
       "      <th>mean</th>\n",
       "      <th>std</th>\n",
       "      <th>min</th>\n",
       "      <th>25%</th>\n",
       "      <th>50%</th>\n",
       "      <th>75%</th>\n",
       "      <th>max</th>\n",
       "    </tr>\n",
       "    <tr>\n",
       "      <th>room_type</th>\n",
       "      <th></th>\n",
       "      <th></th>\n",
       "      <th></th>\n",
       "      <th></th>\n",
       "      <th></th>\n",
       "      <th></th>\n",
       "      <th></th>\n",
       "      <th></th>\n",
       "    </tr>\n",
       "  </thead>\n",
       "  <tbody>\n",
       "    <tr>\n",
       "      <th>Entire home/apt</th>\n",
       "      <td>8278.0</td>\n",
       "      <td>119.815449</td>\n",
       "      <td>174.163674</td>\n",
       "      <td>12.0</td>\n",
       "      <td>60.00</td>\n",
       "      <td>84.0</td>\n",
       "      <td>130.00</td>\n",
       "      <td>8890.0</td>\n",
       "    </tr>\n",
       "    <tr>\n",
       "      <th>Hotel room</th>\n",
       "      <td>45.0</td>\n",
       "      <td>146.311111</td>\n",
       "      <td>85.464193</td>\n",
       "      <td>0.0</td>\n",
       "      <td>100.00</td>\n",
       "      <td>131.0</td>\n",
       "      <td>169.00</td>\n",
       "      <td>391.0</td>\n",
       "    </tr>\n",
       "    <tr>\n",
       "      <th>Private room</th>\n",
       "      <td>2494.0</td>\n",
       "      <td>60.055734</td>\n",
       "      <td>75.827128</td>\n",
       "      <td>10.0</td>\n",
       "      <td>30.00</td>\n",
       "      <td>40.0</td>\n",
       "      <td>60.00</td>\n",
       "      <td>1492.0</td>\n",
       "    </tr>\n",
       "    <tr>\n",
       "      <th>Shared room</th>\n",
       "      <td>68.0</td>\n",
       "      <td>51.500000</td>\n",
       "      <td>47.769190</td>\n",
       "      <td>9.0</td>\n",
       "      <td>25.75</td>\n",
       "      <td>42.5</td>\n",
       "      <td>49.25</td>\n",
       "      <td>275.0</td>\n",
       "    </tr>\n",
       "  </tbody>\n",
       "</table>\n",
       "</div>"
      ],
      "text/plain": [
       "                  price                                                       \\\n",
       "                  count        mean         std   min     25%    50%     75%   \n",
       "room_type                                                                      \n",
       "Entire home/apt  8278.0  119.815449  174.163674  12.0   60.00   84.0  130.00   \n",
       "Hotel room         45.0  146.311111   85.464193   0.0  100.00  131.0  169.00   \n",
       "Private room     2494.0   60.055734   75.827128  10.0   30.00   40.0   60.00   \n",
       "Shared room        68.0   51.500000   47.769190   9.0   25.75   42.5   49.25   \n",
       "\n",
       "                         \n",
       "                    max  \n",
       "room_type                \n",
       "Entire home/apt  8890.0  \n",
       "Hotel room        391.0  \n",
       "Private room     1492.0  \n",
       "Shared room       275.0  "
      ]
     },
     "execution_count": 152,
     "metadata": {},
     "output_type": "execute_result"
    }
   ],
   "source": [
    "quartile_et_autre"
   ]
  },
  {
   "cell_type": "markdown",
   "metadata": {},
   "source": [
    "VOICI LA REPONSE A :Quel est le prix median par type de room, le maximum, le minimum, le premier et le troisième quartile?"
   ]
  },
  {
   "cell_type": "code",
   "execution_count": 97,
   "metadata": {},
   "outputs": [],
   "source": [
    "quartile_et_autre.to_csv(\"quartile_et_autre.csv\")"
   ]
  },
  {
   "cell_type": "code",
   "execution_count": 98,
   "metadata": {},
   "outputs": [
    {
     "data": {
      "text/plain": [
       "82.1015107341638"
      ]
     },
     "execution_count": 98,
     "metadata": {},
     "output_type": "execute_result"
    }
   ],
   "source": [
    "pf.host_acceptance_rate.str.rstrip(\"%\").astype(float).mean()"
   ]
  },
  {
   "cell_type": "code",
   "execution_count": 99,
   "metadata": {},
   "outputs": [
    {
     "data": {
      "text/plain": [
       "93.4806598407281"
      ]
     },
     "execution_count": 99,
     "metadata": {},
     "output_type": "execute_result"
    }
   ],
   "source": [
    "pf.host_response_rate.str.rstrip(\"%\").astype(float).mean()"
   ]
  },
  {
   "cell_type": "code",
   "execution_count": 100,
   "metadata": {},
   "outputs": [],
   "source": [
    "pf.replace(to_replace=\"work_email\", value='work', regex=True,inplace=True)"
   ]
  },
  {
   "cell_type": "code",
   "execution_count": 101,
   "metadata": {},
   "outputs": [],
   "source": [
    "listingPhone =  pf[\"host_verifications\"].apply( lambda x : 1 if \"phone\" in x else 0).sum()\n",
    "\n",
    "\n",
    "\n",
    "listingWorkEmail = pf[\"host_verifications\"].apply( lambda x : 1 if \"work\" in x else 0).sum()\n",
    "\n",
    "\n",
    "listingEmail = pf[\"host_verifications\"].apply( lambda x : 1 if \"email\" in x else 0).sum()\n",
    "\n"
   ]
  },
  {
   "cell_type": "markdown",
   "metadata": {},
   "source": [
    "ON PASSE A LA QUESTION SUR LES BATHS "
   ]
  },
  {
   "cell_type": "code",
   "execution_count": 102,
   "metadata": {},
   "outputs": [
    {
     "data": {
      "text/plain": [
       "array(['1.5 baths', '3 baths', '1 bath', '1 private bath', nan, '2 baths',\n",
       "       '1 shared bath', 'Shared half-bath', '4 baths', '8 baths',\n",
       "       '5 baths', '4.5 baths', '2.5 baths', '0 baths', '1.5 shared baths',\n",
       "       '3.5 baths', 'Half-bath', '3 shared baths', '6 baths', '5.5 baths',\n",
       "       '7 baths', '0 shared baths', '2.5 shared baths',\n",
       "       'Private half-bath', '2 shared baths', '6.5 baths',\n",
       "       '4 shared baths', '11.5 baths', '7.5 baths'], dtype=object)"
      ]
     },
     "execution_count": 102,
     "metadata": {},
     "output_type": "execute_result"
    }
   ],
   "source": [
    "pf.bathrooms_text.unique()"
   ]
  },
  {
   "cell_type": "code",
   "execution_count": 103,
   "metadata": {},
   "outputs": [],
   "source": [
    "pf.bathrooms_text = pf.bathrooms_text.astype(\"string\")"
   ]
  },
  {
   "cell_type": "code",
   "execution_count": 104,
   "metadata": {},
   "outputs": [
    {
     "data": {
      "text/plain": [
       "string[python]"
      ]
     },
     "execution_count": 104,
     "metadata": {},
     "output_type": "execute_result"
    }
   ],
   "source": [
    "pf.bathrooms_text.dtypes"
   ]
  },
  {
   "cell_type": "code",
   "execution_count": 105,
   "metadata": {},
   "outputs": [
    {
     "data": {
      "text/html": [
       "<div>\n",
       "<style scoped>\n",
       "    .dataframe tbody tr th:only-of-type {\n",
       "        vertical-align: middle;\n",
       "    }\n",
       "\n",
       "    .dataframe tbody tr th {\n",
       "        vertical-align: top;\n",
       "    }\n",
       "\n",
       "    .dataframe thead th {\n",
       "        text-align: right;\n",
       "    }\n",
       "</style>\n",
       "<table border=\"1\" class=\"dataframe\">\n",
       "  <thead>\n",
       "    <tr style=\"text-align: right;\">\n",
       "      <th></th>\n",
       "      <th>id</th>\n",
       "      <th>listing_url</th>\n",
       "      <th>scrape_id</th>\n",
       "      <th>last_scraped</th>\n",
       "      <th>source</th>\n",
       "      <th>name</th>\n",
       "      <th>description</th>\n",
       "      <th>neighborhood_overview</th>\n",
       "      <th>picture_url</th>\n",
       "      <th>host_id</th>\n",
       "      <th>...</th>\n",
       "      <th>review_scores_communication</th>\n",
       "      <th>review_scores_location</th>\n",
       "      <th>review_scores_value</th>\n",
       "      <th>license</th>\n",
       "      <th>instant_bookable</th>\n",
       "      <th>calculated_host_listings_count</th>\n",
       "      <th>calculated_host_listings_count_entire_homes</th>\n",
       "      <th>calculated_host_listings_count_private_rooms</th>\n",
       "      <th>calculated_host_listings_count_shared_rooms</th>\n",
       "      <th>reviews_per_month</th>\n",
       "    </tr>\n",
       "  </thead>\n",
       "  <tbody>\n",
       "    <tr>\n",
       "      <th>0</th>\n",
       "      <td>579652405189065070</td>\n",
       "      <td>https://www.airbnb.com/rooms/579652405189065070</td>\n",
       "      <td>20220912200234</td>\n",
       "      <td>2022-09-12</td>\n",
       "      <td>city scrape</td>\n",
       "      <td>Appartement cosy dans centre historique de Bourg</td>\n",
       "      <td>Dans le centre historique de Bourg, idéalement...</td>\n",
       "      <td>Vous vous situez dans le centre historique de ...</td>\n",
       "      <td>https://a0.muscache.com/pictures/miso/Hosting-...</td>\n",
       "      <td>15134863</td>\n",
       "      <td>...</td>\n",
       "      <td>5.00</td>\n",
       "      <td>5.00</td>\n",
       "      <td>4.93</td>\n",
       "      <td>NaN</td>\n",
       "      <td>t</td>\n",
       "      <td>1</td>\n",
       "      <td>1</td>\n",
       "      <td>0</td>\n",
       "      <td>0</td>\n",
       "      <td>2.74</td>\n",
       "    </tr>\n",
       "    <tr>\n",
       "      <th>1</th>\n",
       "      <td>49797548</td>\n",
       "      <td>https://www.airbnb.com/rooms/49797548</td>\n",
       "      <td>20220912200234</td>\n",
       "      <td>2022-09-12</td>\n",
       "      <td>city scrape</td>\n",
       "      <td>Maison de vacances entre Bordeaux et le Bassin</td>\n",
       "      <td>Villa moderne idéalement située entre Bordeaux...</td>\n",
       "      <td>Ballades à pied ou à vélo dans la foret: 5 vél...</td>\n",
       "      <td>https://a0.muscache.com/pictures/miso/Hosting-...</td>\n",
       "      <td>83677621</td>\n",
       "      <td>...</td>\n",
       "      <td>5.00</td>\n",
       "      <td>5.00</td>\n",
       "      <td>5.00</td>\n",
       "      <td>NaN</td>\n",
       "      <td>f</td>\n",
       "      <td>1</td>\n",
       "      <td>1</td>\n",
       "      <td>0</td>\n",
       "      <td>0</td>\n",
       "      <td>0.21</td>\n",
       "    </tr>\n",
       "    <tr>\n",
       "      <th>2</th>\n",
       "      <td>218103</td>\n",
       "      <td>https://www.airbnb.com/rooms/218103</td>\n",
       "      <td>20220912200234</td>\n",
       "      <td>2022-09-13</td>\n",
       "      <td>city scrape</td>\n",
       "      <td>B&amp;B Apart.Suite  / tropical garden</td>\n",
       "      <td>&lt;b&gt;The space&lt;/b&gt;&lt;br /&gt;The Bambooyard  : \"Le cl...</td>\n",
       "      <td>NaN</td>\n",
       "      <td>https://a0.muscache.com/pictures/9ba23c8f-4780...</td>\n",
       "      <td>1127981</td>\n",
       "      <td>...</td>\n",
       "      <td>4.96</td>\n",
       "      <td>4.57</td>\n",
       "      <td>4.54</td>\n",
       "      <td>NaN</td>\n",
       "      <td>f</td>\n",
       "      <td>4</td>\n",
       "      <td>4</td>\n",
       "      <td>0</td>\n",
       "      <td>0</td>\n",
       "      <td>0.44</td>\n",
       "    </tr>\n",
       "    <tr>\n",
       "      <th>3</th>\n",
       "      <td>1117474</td>\n",
       "      <td>https://www.airbnb.com/rooms/1117474</td>\n",
       "      <td>20220912200234</td>\n",
       "      <td>2022-09-13</td>\n",
       "      <td>city scrape</td>\n",
       "      <td>INCROYABLE T3 EN HYPERCENTRE</td>\n",
       "      <td>&lt;b&gt;The space&lt;/b&gt;&lt;br /&gt;In the heart of the hist...</td>\n",
       "      <td>NaN</td>\n",
       "      <td>https://a0.muscache.com/pictures/20359851/80f7...</td>\n",
       "      <td>6133211</td>\n",
       "      <td>...</td>\n",
       "      <td>4.88</td>\n",
       "      <td>4.93</td>\n",
       "      <td>4.80</td>\n",
       "      <td>330630009852A</td>\n",
       "      <td>f</td>\n",
       "      <td>1</td>\n",
       "      <td>1</td>\n",
       "      <td>0</td>\n",
       "      <td>0</td>\n",
       "      <td>3.31</td>\n",
       "    </tr>\n",
       "    <tr>\n",
       "      <th>4</th>\n",
       "      <td>1136724</td>\n",
       "      <td>https://www.airbnb.com/rooms/1136724</td>\n",
       "      <td>20220912200234</td>\n",
       "      <td>2022-09-12</td>\n",
       "      <td>city scrape</td>\n",
       "      <td>Spacious house, 4 guests with Garden &amp; Garage</td>\n",
       "      <td>BOOK A STREET ART HOUSE! Cozy, colorful and cl...</td>\n",
       "      <td>NaN</td>\n",
       "      <td>https://a0.muscache.com/pictures/b876925a-2b69...</td>\n",
       "      <td>3774373</td>\n",
       "      <td>...</td>\n",
       "      <td>4.91</td>\n",
       "      <td>4.62</td>\n",
       "      <td>4.70</td>\n",
       "      <td>33063003349C9</td>\n",
       "      <td>t</td>\n",
       "      <td>4</td>\n",
       "      <td>4</td>\n",
       "      <td>0</td>\n",
       "      <td>0</td>\n",
       "      <td>4.36</td>\n",
       "    </tr>\n",
       "    <tr>\n",
       "      <th>...</th>\n",
       "      <td>...</td>\n",
       "      <td>...</td>\n",
       "      <td>...</td>\n",
       "      <td>...</td>\n",
       "      <td>...</td>\n",
       "      <td>...</td>\n",
       "      <td>...</td>\n",
       "      <td>...</td>\n",
       "      <td>...</td>\n",
       "      <td>...</td>\n",
       "      <td>...</td>\n",
       "      <td>...</td>\n",
       "      <td>...</td>\n",
       "      <td>...</td>\n",
       "      <td>...</td>\n",
       "      <td>...</td>\n",
       "      <td>...</td>\n",
       "      <td>...</td>\n",
       "      <td>...</td>\n",
       "      <td>...</td>\n",
       "      <td>...</td>\n",
       "    </tr>\n",
       "    <tr>\n",
       "      <th>10880</th>\n",
       "      <td>591221838086690180</td>\n",
       "      <td>https://www.airbnb.com/rooms/591221838086690180</td>\n",
       "      <td>20220912200234</td>\n",
       "      <td>2022-09-13</td>\n",
       "      <td>previous scrape</td>\n",
       "      <td>Maison chaleureuse avec piscine près de Bordeaux</td>\n",
       "      <td>Bienvenue dans notre maison ! &lt;br /&gt;C'est notr...</td>\n",
       "      <td>Nous sommes situés à 20 min de la gare de bord...</td>\n",
       "      <td>https://a0.muscache.com/pictures/miso/Hosting-...</td>\n",
       "      <td>5220890</td>\n",
       "      <td>...</td>\n",
       "      <td>NaN</td>\n",
       "      <td>NaN</td>\n",
       "      <td>NaN</td>\n",
       "      <td>NaN</td>\n",
       "      <td>t</td>\n",
       "      <td>1</td>\n",
       "      <td>1</td>\n",
       "      <td>0</td>\n",
       "      <td>0</td>\n",
       "      <td>NaN</td>\n",
       "    </tr>\n",
       "    <tr>\n",
       "      <th>10881</th>\n",
       "      <td>50594474</td>\n",
       "      <td>https://www.airbnb.com/rooms/50594474</td>\n",
       "      <td>20220912200234</td>\n",
       "      <td>2022-09-13</td>\n",
       "      <td>city scrape</td>\n",
       "      <td>Le clos des vignes****</td>\n",
       "      <td>À 20 minutes de Bordeaux et à 3 minutes des so...</td>\n",
       "      <td>NaN</td>\n",
       "      <td>https://a0.muscache.com/pictures/miso/Hosting-...</td>\n",
       "      <td>408562043</td>\n",
       "      <td>...</td>\n",
       "      <td>4.95</td>\n",
       "      <td>4.74</td>\n",
       "      <td>4.83</td>\n",
       "      <td>NaN</td>\n",
       "      <td>f</td>\n",
       "      <td>2</td>\n",
       "      <td>2</td>\n",
       "      <td>0</td>\n",
       "      <td>0</td>\n",
       "      <td>5.73</td>\n",
       "    </tr>\n",
       "    <tr>\n",
       "      <th>10882</th>\n",
       "      <td>556379338554707629</td>\n",
       "      <td>https://www.airbnb.com/rooms/556379338554707629</td>\n",
       "      <td>20220912200234</td>\n",
       "      <td>2022-09-13</td>\n",
       "      <td>city scrape</td>\n",
       "      <td>escale gourmande au coeur des vignobles</td>\n",
       "      <td>studio independant comportant:&lt;br /&gt;&lt;br /&gt; une...</td>\n",
       "      <td>quartier calme ambiance vigne et campagne à 2 ...</td>\n",
       "      <td>https://a0.muscache.com/pictures/6349e9f7-cdce...</td>\n",
       "      <td>62440676</td>\n",
       "      <td>...</td>\n",
       "      <td>4.77</td>\n",
       "      <td>4.73</td>\n",
       "      <td>4.64</td>\n",
       "      <td>NaN</td>\n",
       "      <td>t</td>\n",
       "      <td>3</td>\n",
       "      <td>2</td>\n",
       "      <td>1</td>\n",
       "      <td>0</td>\n",
       "      <td>6.11</td>\n",
       "    </tr>\n",
       "    <tr>\n",
       "      <th>10883</th>\n",
       "      <td>16789721</td>\n",
       "      <td>https://www.airbnb.com/rooms/16789721</td>\n",
       "      <td>20220912200234</td>\n",
       "      <td>2022-09-13</td>\n",
       "      <td>previous scrape</td>\n",
       "      <td>Logement aux portes de Bordeaux et de l'océan</td>\n",
       "      <td>Situé au départ de la route des châteaux, à 10...</td>\n",
       "      <td>Quartier calme</td>\n",
       "      <td>https://a0.muscache.com/pictures/miso/Hosting-...</td>\n",
       "      <td>111565429</td>\n",
       "      <td>...</td>\n",
       "      <td>5.00</td>\n",
       "      <td>4.88</td>\n",
       "      <td>4.88</td>\n",
       "      <td>NaN</td>\n",
       "      <td>t</td>\n",
       "      <td>1</td>\n",
       "      <td>1</td>\n",
       "      <td>0</td>\n",
       "      <td>0</td>\n",
       "      <td>0.26</td>\n",
       "    </tr>\n",
       "    <tr>\n",
       "      <th>10884</th>\n",
       "      <td>678024184489558143</td>\n",
       "      <td>https://www.airbnb.com/rooms/678024184489558143</td>\n",
       "      <td>20220912200234</td>\n",
       "      <td>2022-09-13</td>\n",
       "      <td>previous scrape</td>\n",
       "      <td>Jolie maison familiale avec jardin paysagé</td>\n",
       "      <td>Notre maison familiale se situe dans un lotiss...</td>\n",
       "      <td>Notre maison se trouve dans un petit lotisseme...</td>\n",
       "      <td>https://a0.muscache.com/pictures/miso/Hosting-...</td>\n",
       "      <td>23002270</td>\n",
       "      <td>...</td>\n",
       "      <td>NaN</td>\n",
       "      <td>NaN</td>\n",
       "      <td>NaN</td>\n",
       "      <td>NaN</td>\n",
       "      <td>f</td>\n",
       "      <td>1</td>\n",
       "      <td>1</td>\n",
       "      <td>0</td>\n",
       "      <td>0</td>\n",
       "      <td>NaN</td>\n",
       "    </tr>\n",
       "  </tbody>\n",
       "</table>\n",
       "<p>10876 rows × 75 columns</p>\n",
       "</div>"
      ],
      "text/plain": [
       "                       id                                      listing_url  \\\n",
       "0      579652405189065070  https://www.airbnb.com/rooms/579652405189065070   \n",
       "1                49797548            https://www.airbnb.com/rooms/49797548   \n",
       "2                  218103              https://www.airbnb.com/rooms/218103   \n",
       "3                 1117474             https://www.airbnb.com/rooms/1117474   \n",
       "4                 1136724             https://www.airbnb.com/rooms/1136724   \n",
       "...                   ...                                              ...   \n",
       "10880  591221838086690180  https://www.airbnb.com/rooms/591221838086690180   \n",
       "10881            50594474            https://www.airbnb.com/rooms/50594474   \n",
       "10882  556379338554707629  https://www.airbnb.com/rooms/556379338554707629   \n",
       "10883            16789721            https://www.airbnb.com/rooms/16789721   \n",
       "10884  678024184489558143  https://www.airbnb.com/rooms/678024184489558143   \n",
       "\n",
       "            scrape_id last_scraped           source  \\\n",
       "0      20220912200234   2022-09-12      city scrape   \n",
       "1      20220912200234   2022-09-12      city scrape   \n",
       "2      20220912200234   2022-09-13      city scrape   \n",
       "3      20220912200234   2022-09-13      city scrape   \n",
       "4      20220912200234   2022-09-12      city scrape   \n",
       "...               ...          ...              ...   \n",
       "10880  20220912200234   2022-09-13  previous scrape   \n",
       "10881  20220912200234   2022-09-13      city scrape   \n",
       "10882  20220912200234   2022-09-13      city scrape   \n",
       "10883  20220912200234   2022-09-13  previous scrape   \n",
       "10884  20220912200234   2022-09-13  previous scrape   \n",
       "\n",
       "                                                   name  \\\n",
       "0      Appartement cosy dans centre historique de Bourg   \n",
       "1        Maison de vacances entre Bordeaux et le Bassin   \n",
       "2                    B&B Apart.Suite  / tropical garden   \n",
       "3                          INCROYABLE T3 EN HYPERCENTRE   \n",
       "4         Spacious house, 4 guests with Garden & Garage   \n",
       "...                                                 ...   \n",
       "10880  Maison chaleureuse avec piscine près de Bordeaux   \n",
       "10881                            Le clos des vignes****   \n",
       "10882           escale gourmande au coeur des vignobles   \n",
       "10883     Logement aux portes de Bordeaux et de l'océan   \n",
       "10884        Jolie maison familiale avec jardin paysagé   \n",
       "\n",
       "                                             description  \\\n",
       "0      Dans le centre historique de Bourg, idéalement...   \n",
       "1      Villa moderne idéalement située entre Bordeaux...   \n",
       "2      <b>The space</b><br />The Bambooyard  : \"Le cl...   \n",
       "3      <b>The space</b><br />In the heart of the hist...   \n",
       "4      BOOK A STREET ART HOUSE! Cozy, colorful and cl...   \n",
       "...                                                  ...   \n",
       "10880  Bienvenue dans notre maison ! <br />C'est notr...   \n",
       "10881  À 20 minutes de Bordeaux et à 3 minutes des so...   \n",
       "10882  studio independant comportant:<br /><br /> une...   \n",
       "10883  Situé au départ de la route des châteaux, à 10...   \n",
       "10884  Notre maison familiale se situe dans un lotiss...   \n",
       "\n",
       "                                   neighborhood_overview  \\\n",
       "0      Vous vous situez dans le centre historique de ...   \n",
       "1      Ballades à pied ou à vélo dans la foret: 5 vél...   \n",
       "2                                                    NaN   \n",
       "3                                                    NaN   \n",
       "4                                                    NaN   \n",
       "...                                                  ...   \n",
       "10880  Nous sommes situés à 20 min de la gare de bord...   \n",
       "10881                                                NaN   \n",
       "10882  quartier calme ambiance vigne et campagne à 2 ...   \n",
       "10883                                     Quartier calme   \n",
       "10884  Notre maison se trouve dans un petit lotisseme...   \n",
       "\n",
       "                                             picture_url    host_id  ...  \\\n",
       "0      https://a0.muscache.com/pictures/miso/Hosting-...   15134863  ...   \n",
       "1      https://a0.muscache.com/pictures/miso/Hosting-...   83677621  ...   \n",
       "2      https://a0.muscache.com/pictures/9ba23c8f-4780...    1127981  ...   \n",
       "3      https://a0.muscache.com/pictures/20359851/80f7...    6133211  ...   \n",
       "4      https://a0.muscache.com/pictures/b876925a-2b69...    3774373  ...   \n",
       "...                                                  ...        ...  ...   \n",
       "10880  https://a0.muscache.com/pictures/miso/Hosting-...    5220890  ...   \n",
       "10881  https://a0.muscache.com/pictures/miso/Hosting-...  408562043  ...   \n",
       "10882  https://a0.muscache.com/pictures/6349e9f7-cdce...   62440676  ...   \n",
       "10883  https://a0.muscache.com/pictures/miso/Hosting-...  111565429  ...   \n",
       "10884  https://a0.muscache.com/pictures/miso/Hosting-...   23002270  ...   \n",
       "\n",
       "      review_scores_communication review_scores_location review_scores_value  \\\n",
       "0                            5.00                   5.00                4.93   \n",
       "1                            5.00                   5.00                5.00   \n",
       "2                            4.96                   4.57                4.54   \n",
       "3                            4.88                   4.93                4.80   \n",
       "4                            4.91                   4.62                4.70   \n",
       "...                           ...                    ...                 ...   \n",
       "10880                         NaN                    NaN                 NaN   \n",
       "10881                        4.95                   4.74                4.83   \n",
       "10882                        4.77                   4.73                4.64   \n",
       "10883                        5.00                   4.88                4.88   \n",
       "10884                         NaN                    NaN                 NaN   \n",
       "\n",
       "             license instant_bookable calculated_host_listings_count  \\\n",
       "0                NaN                t                              1   \n",
       "1                NaN                f                              1   \n",
       "2                NaN                f                              4   \n",
       "3      330630009852A                f                              1   \n",
       "4      33063003349C9                t                              4   \n",
       "...              ...              ...                            ...   \n",
       "10880            NaN                t                              1   \n",
       "10881            NaN                f                              2   \n",
       "10882            NaN                t                              3   \n",
       "10883            NaN                t                              1   \n",
       "10884            NaN                f                              1   \n",
       "\n",
       "      calculated_host_listings_count_entire_homes  \\\n",
       "0                                               1   \n",
       "1                                               1   \n",
       "2                                               4   \n",
       "3                                               1   \n",
       "4                                               4   \n",
       "...                                           ...   \n",
       "10880                                           1   \n",
       "10881                                           2   \n",
       "10882                                           2   \n",
       "10883                                           1   \n",
       "10884                                           1   \n",
       "\n",
       "      calculated_host_listings_count_private_rooms  \\\n",
       "0                                                0   \n",
       "1                                                0   \n",
       "2                                                0   \n",
       "3                                                0   \n",
       "4                                                0   \n",
       "...                                            ...   \n",
       "10880                                            0   \n",
       "10881                                            0   \n",
       "10882                                            1   \n",
       "10883                                            0   \n",
       "10884                                            0   \n",
       "\n",
       "      calculated_host_listings_count_shared_rooms reviews_per_month  \n",
       "0                                               0              2.74  \n",
       "1                                               0              0.21  \n",
       "2                                               0              0.44  \n",
       "3                                               0              3.31  \n",
       "4                                               0              4.36  \n",
       "...                                           ...               ...  \n",
       "10880                                           0               NaN  \n",
       "10881                                           0              5.73  \n",
       "10882                                           0              6.11  \n",
       "10883                                           0              0.26  \n",
       "10884                                           0               NaN  \n",
       "\n",
       "[10876 rows x 75 columns]"
      ]
     },
     "execution_count": 105,
     "metadata": {},
     "output_type": "execute_result"
    }
   ],
   "source": [
    "pf.dropna(subset = ['bathrooms_text'])"
   ]
  },
  {
   "cell_type": "code",
   "execution_count": null,
   "metadata": {},
   "outputs": [],
   "source": []
  },
  {
   "cell_type": "code",
   "execution_count": 106,
   "metadata": {},
   "outputs": [],
   "source": [
    "pf[\"Bath\"] = pf[\"bathrooms_text\"]\n"
   ]
  },
  {
   "cell_type": "code",
   "execution_count": 107,
   "metadata": {},
   "outputs": [
    {
     "data": {
      "text/plain": [
       "<StringArray>\n",
       "[        '1.5 baths',           '3 baths',            '1 bath',\n",
       "    '1 private bath',                <NA>,           '2 baths',\n",
       "     '1 shared bath',  'Shared half-bath',           '4 baths',\n",
       "           '8 baths',           '5 baths',         '4.5 baths',\n",
       "         '2.5 baths',           '0 baths',  '1.5 shared baths',\n",
       "         '3.5 baths',         'Half-bath',    '3 shared baths',\n",
       "           '6 baths',         '5.5 baths',           '7 baths',\n",
       "    '0 shared baths',  '2.5 shared baths', 'Private half-bath',\n",
       "    '2 shared baths',         '6.5 baths',    '4 shared baths',\n",
       "        '11.5 baths',         '7.5 baths']\n",
       "Length: 29, dtype: string"
      ]
     },
     "execution_count": 107,
     "metadata": {},
     "output_type": "execute_result"
    }
   ],
   "source": [
    "pf[\"Bath\"].unique()"
   ]
  },
  {
   "cell_type": "code",
   "execution_count": 108,
   "metadata": {},
   "outputs": [],
   "source": [
    "pf[\"Bath\"] = pf[\"Bath\"].str.replace(\"baths\",\"bath\")"
   ]
  },
  {
   "cell_type": "code",
   "execution_count": 109,
   "metadata": {},
   "outputs": [],
   "source": [
    "pf[\"Bath\"] = pf[\"Bath\"].str.lower()"
   ]
  },
  {
   "cell_type": "code",
   "execution_count": 110,
   "metadata": {},
   "outputs": [],
   "source": [
    "# pf[[\"nb\",\"type\"]] = pf[\"Bath\"].str.split(\" \",1,expand=True)"
   ]
  },
  {
   "cell_type": "code",
   "execution_count": 111,
   "metadata": {},
   "outputs": [],
   "source": [
    "pf[\"Bath\"] = pf[\"Bath\"].str.replace(\"private bath\",\"2\")"
   ]
  },
  {
   "cell_type": "code",
   "execution_count": 112,
   "metadata": {},
   "outputs": [],
   "source": [
    "pf[\"Bath\"] = pf[\"Bath\"].str.replace(\"shared half-bath\",\"1 0.25\")"
   ]
  },
  {
   "cell_type": "code",
   "execution_count": 113,
   "metadata": {},
   "outputs": [],
   "source": [
    "pf[\"Bath\"] = pf[\"Bath\"].str.replace(\"private half-bath\",\"1 1\")"
   ]
  },
  {
   "cell_type": "code",
   "execution_count": 114,
   "metadata": {},
   "outputs": [],
   "source": [
    "pf[\"Bath\"] = pf[\"Bath\"].str.replace(\"half-bath\",\"1 0.5\")"
   ]
  },
  {
   "cell_type": "code",
   "execution_count": 115,
   "metadata": {},
   "outputs": [],
   "source": [
    "pf[\"Bath\"] = pf[\"Bath\"].str.replace(\"shared bath\",\"0.5\")"
   ]
  },
  {
   "cell_type": "code",
   "execution_count": 116,
   "metadata": {},
   "outputs": [],
   "source": [
    "pf[\"Bath\"] = pf[\"Bath\"].str.replace(\"bath\",\"1\")"
   ]
  },
  {
   "cell_type": "code",
   "execution_count": 117,
   "metadata": {},
   "outputs": [],
   "source": [
    "#pf[\"Bath\"] = pf[\"Bath\"].str.replace(\"half-bath\",\"0.5-\")"
   ]
  },
  {
   "cell_type": "code",
   "execution_count": 118,
   "metadata": {},
   "outputs": [
    {
     "data": {
      "text/plain": [
       "0        1.5 1\n",
       "1          3 1\n",
       "2          1 1\n",
       "3          1 1\n",
       "4          1 1\n",
       "         ...  \n",
       "10880      2 1\n",
       "10881      1 1\n",
       "10882      1 1\n",
       "10883      1 1\n",
       "10884      1 1\n",
       "Name: Bath, Length: 10876, dtype: string"
      ]
     },
     "execution_count": 118,
     "metadata": {},
     "output_type": "execute_result"
    }
   ],
   "source": [
    "pf[\"Bath\"].dropna()"
   ]
  },
  {
   "cell_type": "code",
   "execution_count": 119,
   "metadata": {},
   "outputs": [
    {
     "data": {
      "text/plain": [
       "<StringArray>\n",
       "[  '1.5 1',     '3 1',     '1 1',     '1 2',     '2 1',   '1 0.5',  '1 0.25',\n",
       "     '4 1',     '8 1',     '5 1',   '4.5 1',   '2.5 1',     '0 1', '1.5 0.5',\n",
       "   '3.5 1',   '3 0.5',     '6 1',   '5.5 1',     '7 1',   '0 0.5', '2.5 0.5',\n",
       "   '2 0.5',   '6.5 1',   '4 0.5',  '11.5 1',   '7.5 1']\n",
       "Length: 26, dtype: string"
      ]
     },
     "execution_count": 119,
     "metadata": {},
     "output_type": "execute_result"
    }
   ],
   "source": [
    "pf.Bath.dropna().unique()"
   ]
  },
  {
   "cell_type": "code",
   "execution_count": 120,
   "metadata": {},
   "outputs": [
    {
     "name": "stderr",
     "output_type": "stream",
     "text": [
      "/tmp/ipykernel_5780/548100858.py:1: FutureWarning: In a future version of pandas all arguments of StringMethods.split except for the argument 'pat' will be keyword-only.\n",
      "  pf[[\"nb\",\"type\"]] = pf[\"Bath\"].str.split(\" \",1,expand=True)\n"
     ]
    }
   ],
   "source": [
    "pf[[\"nb\",\"type\"]] = pf[\"Bath\"].str.split(\" \",1,expand=True)"
   ]
  },
  {
   "cell_type": "code",
   "execution_count": 121,
   "metadata": {},
   "outputs": [
    {
     "data": {
      "text/plain": [
       "0        1.5\n",
       "1          3\n",
       "2          1\n",
       "3          1\n",
       "4          1\n",
       "        ... \n",
       "10880      2\n",
       "10881      1\n",
       "10882      1\n",
       "10883      1\n",
       "10884      1\n",
       "Name: nb, Length: 10876, dtype: string"
      ]
     },
     "execution_count": 121,
     "metadata": {},
     "output_type": "execute_result"
    }
   ],
   "source": [
    "pfNb = pf.nb.dropna()\n",
    "pfNb"
   ]
  },
  {
   "cell_type": "code",
   "execution_count": 122,
   "metadata": {},
   "outputs": [
    {
     "data": {
      "text/plain": [
       "<StringArray>\n",
       "[  '1.5 1',     '3 1',     '1 1',     '1 2',      <NA>,     '2 1',   '1 0.5',\n",
       "  '1 0.25',     '4 1',     '8 1',     '5 1',   '4.5 1',   '2.5 1',     '0 1',\n",
       " '1.5 0.5',   '3.5 1',   '3 0.5',     '6 1',   '5.5 1',     '7 1',   '0 0.5',\n",
       " '2.5 0.5',   '2 0.5',   '6.5 1',   '4 0.5',  '11.5 1',   '7.5 1']\n",
       "Length: 27, dtype: string"
      ]
     },
     "execution_count": 122,
     "metadata": {},
     "output_type": "execute_result"
    }
   ],
   "source": [
    "pf[\"Bath\"].unique()"
   ]
  },
  {
   "cell_type": "code",
   "execution_count": 123,
   "metadata": {},
   "outputs": [
    {
     "data": {
      "text/plain": [
       "0        1\n",
       "1        1\n",
       "2        1\n",
       "3        1\n",
       "4        1\n",
       "        ..\n",
       "10880    1\n",
       "10881    1\n",
       "10882    1\n",
       "10883    1\n",
       "10884    1\n",
       "Name: type, Length: 10876, dtype: string"
      ]
     },
     "execution_count": 123,
     "metadata": {},
     "output_type": "execute_result"
    }
   ],
   "source": [
    "pfType = pf.type.dropna()\n",
    "pfType"
   ]
  },
  {
   "cell_type": "code",
   "execution_count": 124,
   "metadata": {},
   "outputs": [],
   "source": [
    "pf[\"nb\"]=pf[\"nb\"].astype(float)\n",
    "pf[\"type\"]=pf[\"type\"].astype(float)"
   ]
  },
  {
   "cell_type": "code",
   "execution_count": 125,
   "metadata": {},
   "outputs": [],
   "source": [
    "pf[\"popo\"] = pf[\"nb\"]*pf[\"type\"]"
   ]
  },
  {
   "cell_type": "code",
   "execution_count": 148,
   "metadata": {},
   "outputs": [],
   "source": [
    "lesbath= pf.nb.groupby(pf.popo).count()"
   ]
  },
  {
   "cell_type": "markdown",
   "metadata": {},
   "source": [
    "VOICI LA REPONSE A LA QUESTION SUR LES BATHS"
   ]
  },
  {
   "cell_type": "code",
   "execution_count": 149,
   "metadata": {},
   "outputs": [],
   "source": [
    "lesbath.to_csv(\"lesbath.csv\")"
   ]
  },
  {
   "cell_type": "markdown",
   "metadata": {},
   "source": [
    "ON A ENFIN NOTRE REPONSE"
   ]
  },
  {
   "cell_type": "code",
   "execution_count": 127,
   "metadata": {},
   "outputs": [
    {
     "data": {
      "text/plain": [
       "Index(['id', 'listing_url', 'scrape_id', 'last_scraped', 'source', 'name',\n",
       "       'description', 'neighborhood_overview', 'picture_url', 'host_id',\n",
       "       'host_url', 'host_name', 'host_since', 'host_location', 'host_about',\n",
       "       'host_response_time', 'host_response_rate', 'host_acceptance_rate',\n",
       "       'host_is_superhost', 'host_thumbnail_url', 'host_picture_url',\n",
       "       'host_neighbourhood', 'host_listings_count',\n",
       "       'host_total_listings_count', 'host_verifications',\n",
       "       'host_has_profile_pic', 'host_identity_verified', 'neighbourhood',\n",
       "       'neighbourhood_cleansed', 'neighbourhood_group_cleansed', 'latitude',\n",
       "       'longitude', 'property_type', 'room_type', 'accommodates', 'bathrooms',\n",
       "       'bathrooms_text', 'bedrooms', 'beds', 'amenities', 'price',\n",
       "       'minimum_nights', 'maximum_nights', 'minimum_minimum_nights',\n",
       "       'maximum_minimum_nights', 'minimum_maximum_nights',\n",
       "       'maximum_maximum_nights', 'minimum_nights_avg_ntm',\n",
       "       'maximum_nights_avg_ntm', 'calendar_updated', 'has_availability',\n",
       "       'availability_30', 'availability_60', 'availability_90',\n",
       "       'availability_365', 'calendar_last_scraped', 'number_of_reviews',\n",
       "       'number_of_reviews_ltm', 'number_of_reviews_l30d', 'first_review',\n",
       "       'last_review', 'review_scores_rating', 'review_scores_accuracy',\n",
       "       'review_scores_cleanliness', 'review_scores_checkin',\n",
       "       'review_scores_communication', 'review_scores_location',\n",
       "       'review_scores_value', 'license', 'instant_bookable',\n",
       "       'calculated_host_listings_count',\n",
       "       'calculated_host_listings_count_entire_homes',\n",
       "       'calculated_host_listings_count_private_rooms',\n",
       "       'calculated_host_listings_count_shared_rooms', 'reviews_per_month',\n",
       "       'Bath', 'nb', 'type', 'popo'],\n",
       "      dtype='object')"
      ]
     },
     "execution_count": 127,
     "metadata": {},
     "output_type": "execute_result"
    }
   ],
   "source": [
    "pf.columns"
   ]
  },
  {
   "cell_type": "markdown",
   "metadata": {},
   "source": [
    "on se demande si il y a une correlation entre la taille de la description et le nombre de reviews"
   ]
  },
  {
   "cell_type": "code",
   "execution_count": 128,
   "metadata": {},
   "outputs": [
    {
     "data": {
      "text/plain": [
       "0        1.5\n",
       "1        3.0\n",
       "2        1.0\n",
       "3        1.0\n",
       "4        1.0\n",
       "        ... \n",
       "10880    2.0\n",
       "10881    1.0\n",
       "10882    1.0\n",
       "10883    1.0\n",
       "10884    1.0\n",
       "Name: nb, Length: 10885, dtype: float64"
      ]
     },
     "execution_count": 128,
     "metadata": {},
     "output_type": "execute_result"
    }
   ],
   "source": [
    "pf.nb"
   ]
  },
  {
   "cell_type": "code",
   "execution_count": 129,
   "metadata": {},
   "outputs": [
    {
     "data": {
      "text/plain": [
       "0        Dans le centre historique de Bourg, idéalement...\n",
       "1        Villa moderne idéalement située entre Bordeaux...\n",
       "2        <b>The space</b><br />The Bambooyard  : \"Le cl...\n",
       "3        <b>The space</b><br />In the heart of the hist...\n",
       "4        BOOK A STREET ART HOUSE! Cozy, colorful and cl...\n",
       "                               ...                        \n",
       "10880    Bienvenue dans notre maison ! <br />C'est notr...\n",
       "10881    À 20 minutes de Bordeaux et à 3 minutes des so...\n",
       "10882    studio independant comportant:<br /><br /> une...\n",
       "10883    Situé au départ de la route des châteaux, à 10...\n",
       "10884    Notre maison familiale se situe dans un lotiss...\n",
       "Name: description, Length: 10885, dtype: object"
      ]
     },
     "execution_count": 129,
     "metadata": {},
     "output_type": "execute_result"
    }
   ],
   "source": [
    "pf.description"
   ]
  },
  {
   "cell_type": "code",
   "execution_count": 130,
   "metadata": {},
   "outputs": [],
   "source": [
    "pf[\"description\"] = pf.description.astype(\"string\")"
   ]
  },
  {
   "cell_type": "code",
   "execution_count": 131,
   "metadata": {},
   "outputs": [],
   "source": [
    "pf = pf.dropna(subset=['description'])"
   ]
  },
  {
   "cell_type": "code",
   "execution_count": 132,
   "metadata": {},
   "outputs": [
    {
     "name": "stderr",
     "output_type": "stream",
     "text": [
      "/tmp/ipykernel_5780/320712926.py:1: SettingWithCopyWarning: \n",
      "A value is trying to be set on a copy of a slice from a DataFrame.\n",
      "Try using .loc[row_indexer,col_indexer] = value instead\n",
      "\n",
      "See the caveats in the documentation: https://pandas.pydata.org/pandas-docs/stable/user_guide/indexing.html#returning-a-view-versus-a-copy\n",
      "  pf[\"lenghth\"] = pf.description.apply(len)\n"
     ]
    }
   ],
   "source": [
    "pf[\"lenghth\"] = pf.description.apply(len)"
   ]
  },
  {
   "cell_type": "code",
   "execution_count": 133,
   "metadata": {},
   "outputs": [
    {
     "data": {
      "text/plain": [
       "array([1000,  912,  905,  293,  865,  273,  266,  813,  509,  921,  923,\n",
       "        627,  834,  862,  629,  585,  975,  527,  946,  403,  204,  412,\n",
       "        677,  483,  969,  664,  246,  120,  386,  750,  819,  808,  802,\n",
       "        292,  820,  551,  488,  950,  493,  277,  307,  392,  644,  674,\n",
       "        733,  264,  504,  570,  774,  647,  789,  860,  588,  498,  829,\n",
       "        417,  330,  479,  751,  625,  675,  532,  257,  806,  828,  858,\n",
       "        365,  383,  804,  593,  775,  679,  433,  534,  980,  332,  889,\n",
       "        379,  269,  453,  275,  724,  236,  244,  748,  992,  917,  253,\n",
       "        688,  250,  211,  853,  194,  526,  822,  468,  245,  602,  258,\n",
       "        442,  831,  282,  555,  941,  564,  506,  419,  290,  867,  312,\n",
       "        274,  796,  343,  554,  553,  833,  329,  599,  228,  735,  626,\n",
       "        335,  199,  135,  899,  242,  743,  995,  157,  259,  233,  306,\n",
       "        913,  633,  836,  387,  827,  953,  247,  202,  103,  437,  942,\n",
       "        535,  920,  474,  545,  151,  256,  478,  380,  558,  715,  248,\n",
       "        801,  187,  784,  736,  285,  226,  639,  954,  289,  793,  569,\n",
       "        611,  466,  738,  660,  249,  769,  984,   71,  710,  656,  252,\n",
       "        596,  235,  251,  325,  709,  915,  727,  363,  943,  455,   86,\n",
       "        500,  799,  759,  922,  496,  227,  719,  726,  351,  762,  520,\n",
       "        742,  848,  415,  463,  778,  565,  441,  838,  910,  146,  150,\n",
       "        356,  153,  945,  263,  816,  310,  513,  521,  600,  516,  868,\n",
       "        575,  845,  502,  425,  388,  699,  728,  961,  549,  271,  757,\n",
       "        174,  803,  760,  708,  166,  260,   26,  880,   58,  220,  897,\n",
       "         50,  170,  207,  595,  773,  428,   27,  339,  482,  429,  560,\n",
       "        270,  785,  657,  871,  180,  378,  916,  539,   75,  445,  382,\n",
       "        219,  125,  304,  447,  973,  487,  237,  344,  703,  563,  805,\n",
       "        231,  265,  882,  464,  766,  616,  791,  389,  430,  262,   33,\n",
       "        522,  645,  607,  556,  809,  665,  939,  872,  698,  758,  737,\n",
       "        983,  771,  798,  254,  581,  787,  533,  776,  970,  739,  717,\n",
       "        835,  843,  924,  965,  676,  779,  353,  406,  968,  947,  685,\n",
       "        374,  422,  580,  993,  631,  352,  155,  538,  283,  683,  592,\n",
       "        846,  723,  635,  243,  909,   16,  887,  837,  877,   39,  142,\n",
       "         36,  574,  240,  108,  255,  874,  431,  342,  851,  505,  740,\n",
       "        962,   95,  919,  612,  212,  484,  672,  949,  232,  346,  911,\n",
       "        432,  694,  562,  229,  952,  280,  904,  200,  338,  687,  198,\n",
       "        586,  203,  540,  800,  589,  333,  763,  693,  552,   76,  696,\n",
       "        525,  890,  826,  163,  217,  824,  205,  139,  546,  216,  788,\n",
       "        159,  547,  201,  741,  397,  192,   48,  225,  140,  222,   66,\n",
       "        169,  134,  411,  136,  175,  318,  413,  642,  876,  721,   90,\n",
       "        448,  364,  489,  301,  634,  499,  239,  410,  630,  883,  702,\n",
       "        937,  691,  608,  347,  519,  214,  764,  190,  475,  331,  391,\n",
       "        929,  465,  670,  355,  161,  358,  682,  885,  454,  405,  178,\n",
       "        173,  606,  446,  958,  316,  700,  926,  863,  308,  116,  991,\n",
       "        997,  261,  772,  156,  839,  662,  577,  213,  400,  714,  395,\n",
       "        881,  472,  268,  279,  568,  594,  460,  907,  518,  932,  888,\n",
       "        752,   74,  162,  901,  732,  718,  667,  436,  210,  165,  959,\n",
       "        866,  770,  643,  637,  650,  224,  567,  756,  399,  423,  873,\n",
       "        457,  121,  149,  598,  730,  449,  215,  267,  697,  221,  276,\n",
       "        994,  655,  725,  653,   67,  426,   41,  193,  439,  878,  480,\n",
       "        861,  297,  578,  315,  218,  978,  303,  462,  744,  177,  144,\n",
       "        541,  531,  148,  815,  490,  706,  849,  515,  749,    1,  619,\n",
       "        209,  597,  543,  624,  418,  967,  375,  184,  372,  366,  291,\n",
       "        746,  451,  622,  523,  854,  481,  420,  470,  158,  893,  971,\n",
       "        989,  111,  320,  841,   93,  957,  371,  458,  171,  191,  948,\n",
       "        998,  561,  323,  508,  278,  537,  492,  497,  659,  381,  956,\n",
       "        110,  584,  940,  663,  510,  119,  234,  491,  812,  486,  390,\n",
       "        503,  990,  408,  377,  385,  590,  456,  548,  322,  168,   96,\n",
       "        467,  376,  361,  281,  327,  305,  321,  536,  296,  610,  977,\n",
       "        444,  369,  145,  790,  494,  238,  512,  579,  495,  359,  892,\n",
       "        934,  810,  349,  935,  182,  319,  987,  340,  295,  918,   70,\n",
       "        434,  684,  314,  511,  324,  485,  421,  623,  767,  747,  974,\n",
       "        908,  452,  473,  398,  167,  517,  666,  272,  311,  777,  707,\n",
       "        524,  328,  832,  298,  566,  507,  712,  695,  795,  284,  825,\n",
       "        985,  154,   55,  528,  286,  530,  104,  367,  126,  651,  114,\n",
       "        341,  648,  469,  196,  930,  105,  618,  855,  988,  638,  544,\n",
       "        898,  982,  783,  891,  591,  830,  334,  938,   49,  176,   54,\n",
       "        299,   40,  414,  979,  185,  745,  501,  127,  621,  360,  713,\n",
       "        615,  960,  195,  711,  692,  357,   59,   99,  850,  550,  409,\n",
       "        640,  840,  164,  186,   38,  999,  729,  402,  130,  557,  294,\n",
       "        427,  734,  571,  601,  731,  754,   13,  944,   29,  300,  471,\n",
       "        761,  852,  572,  138,    5,  966,  393,  362,  814,  117,   72,\n",
       "        902,  755,  188,  287,   68,  208,  864,  903,  152,  933,  183,\n",
       "        189,  438,  350,  313,  955,  124,  884,  514,  857,  373,  112,\n",
       "        128,  529,  160,  583,  370,   23,  459,  681,   63,  658,  797,\n",
       "        443,  613,  716,  856,  132,  336,   69,  823,  609,  894,  842,\n",
       "        559,  895,  652,  241,  394,   46,   42,  614,  416,   97,   37,\n",
       "        617,  870,   45,   62,   79,  542,  900,  582,   35,  131,   80,\n",
       "        972,  603,  348,  573,  951,  172,  690,  906,   34,  704,  106,\n",
       "        302,  869,  620,  765,  424,  587,   84,  100,  671,  886,   52,\n",
       "        435,  636,  964,  407,  720,  641,  401,  450,  925,  440,  206,\n",
       "        317,  115,  896,  705,   17,  628,  668,  927,  576,  101,  875,\n",
       "        786,  345,  847,  807,  794,  223,  661,  141,  396,   15,  113,\n",
       "        649,  844,   91,   20,   98,  384,  722,   14,   61,  689,  654,\n",
       "        123,   60,  782,  143,  337,  368,  309,  818,  981,  753,  354,\n",
       "        996,  605,  197,  669,  780,  931,  461,   43,  821,  928,   77,\n",
       "        792,   64,  859,   88,   85,   89,  326,  678,  632,   53,  768,\n",
       "        781,  673,   83,   56,  914,  680,  181,  137,  109,  477,  147,\n",
       "        404,   32,  986,  646,  604,  102,   57,  811,  963,   92,  817,\n",
       "        686,   81,   31,  476,   73,  879,    3,  976,   44,   87,  936,\n",
       "         94,  230,   82,  107,  179,  701,  118,    9,   51])"
      ]
     },
     "execution_count": 133,
     "metadata": {},
     "output_type": "execute_result"
    }
   ],
   "source": [
    "pf[\"lenghth\"].unique()"
   ]
  },
  {
   "cell_type": "code",
   "execution_count": 134,
   "metadata": {},
   "outputs": [
    {
     "data": {
      "text/plain": [
       "0.18421675289228953"
      ]
     },
     "execution_count": 134,
     "metadata": {},
     "output_type": "execute_result"
    }
   ],
   "source": [
    "pf.number_of_reviews.corr(pf[\"lenghth\"])"
   ]
  },
  {
   "cell_type": "markdown",
   "metadata": {},
   "source": [
    "VOICI NOTRE REPONSE POUR LA CORROLATION\n"
   ]
  },
  {
   "cell_type": "code",
   "execution_count": null,
   "metadata": {},
   "outputs": [],
   "source": []
  },
  {
   "cell_type": "markdown",
   "metadata": {},
   "source": [
    "il y a une légère corrolation "
   ]
  },
  {
   "cell_type": "code",
   "execution_count": 135,
   "metadata": {},
   "outputs": [
    {
     "data": {
      "text/plain": [
       "0        Appartement cosy dans centre historique de Bourg\n",
       "1          Maison de vacances entre Bordeaux et le Bassin\n",
       "2                      B&B Apart.Suite  / tropical garden\n",
       "3                            INCROYABLE T3 EN HYPERCENTRE\n",
       "4           Spacious house, 4 guests with Garden & Garage\n",
       "                               ...                       \n",
       "10880    Maison chaleureuse avec piscine près de Bordeaux\n",
       "10881                              Le clos des vignes****\n",
       "10882             escale gourmande au coeur des vignobles\n",
       "10883       Logement aux portes de Bordeaux et de l'océan\n",
       "10884          Jolie maison familiale avec jardin paysagé\n",
       "Name: name, Length: 10701, dtype: object"
      ]
     },
     "execution_count": 135,
     "metadata": {},
     "output_type": "execute_result"
    }
   ],
   "source": [
    "pf.name"
   ]
  },
  {
   "cell_type": "code",
   "execution_count": 136,
   "metadata": {},
   "outputs": [
    {
     "name": "stdout",
     "output_type": "stream",
     "text": [
      "<class 'pandas.core.frame.DataFrame'>\n",
      "Int64Index: 10701 entries, 0 to 10884\n",
      "Data columns (total 80 columns):\n",
      " #   Column                                        Non-Null Count  Dtype  \n",
      "---  ------                                        --------------  -----  \n",
      " 0   id                                            10701 non-null  int64  \n",
      " 1   listing_url                                   10701 non-null  object \n",
      " 2   scrape_id                                     10701 non-null  int64  \n",
      " 3   last_scraped                                  10701 non-null  object \n",
      " 4   source                                        10701 non-null  object \n",
      " 5   name                                          10701 non-null  object \n",
      " 6   description                                   10701 non-null  string \n",
      " 7   neighborhood_overview                         6508 non-null   object \n",
      " 8   picture_url                                   10701 non-null  object \n",
      " 9   host_id                                       10701 non-null  int64  \n",
      " 10  host_url                                      10701 non-null  object \n",
      " 11  host_name                                     10701 non-null  object \n",
      " 12  host_since                                    10701 non-null  object \n",
      " 13  host_location                                 8881 non-null   object \n",
      " 14  host_about                                    4195 non-null   object \n",
      " 15  host_response_time                            6951 non-null   object \n",
      " 16  host_response_rate                            6951 non-null   object \n",
      " 17  host_acceptance_rate                          7459 non-null   object \n",
      " 18  host_is_superhost                             10701 non-null  object \n",
      " 19  host_thumbnail_url                            10701 non-null  object \n",
      " 20  host_picture_url                              10701 non-null  object \n",
      " 21  host_neighbourhood                            3273 non-null   object \n",
      " 22  host_listings_count                           10701 non-null  int64  \n",
      " 23  host_total_listings_count                     10701 non-null  int64  \n",
      " 24  host_verifications                            10701 non-null  object \n",
      " 25  host_has_profile_pic                          10701 non-null  object \n",
      " 26  host_identity_verified                        10701 non-null  object \n",
      " 27  neighbourhood                                 6508 non-null   object \n",
      " 28  neighbourhood_cleansed                        10701 non-null  object \n",
      " 29  neighbourhood_group_cleansed                  10701 non-null  object \n",
      " 30  latitude                                      10701 non-null  float64\n",
      " 31  longitude                                     10701 non-null  float64\n",
      " 32  property_type                                 10701 non-null  object \n",
      " 33  room_type                                     10701 non-null  object \n",
      " 34  accommodates                                  10701 non-null  int64  \n",
      " 35  bathrooms                                     0 non-null      float64\n",
      " 36  bathrooms_text                                10694 non-null  string \n",
      " 37  bedrooms                                      9710 non-null   float64\n",
      " 38  beds                                          10578 non-null  float64\n",
      " 39  amenities                                     10701 non-null  object \n",
      " 40  price                                         10701 non-null  object \n",
      " 41  minimum_nights                                10701 non-null  int64  \n",
      " 42  maximum_nights                                10701 non-null  int64  \n",
      " 43  minimum_minimum_nights                        10701 non-null  int64  \n",
      " 44  maximum_minimum_nights                        10701 non-null  int64  \n",
      " 45  minimum_maximum_nights                        10701 non-null  int64  \n",
      " 46  maximum_maximum_nights                        10701 non-null  int64  \n",
      " 47  minimum_nights_avg_ntm                        10701 non-null  float64\n",
      " 48  maximum_nights_avg_ntm                        10701 non-null  float64\n",
      " 49  calendar_updated                              0 non-null      float64\n",
      " 50  has_availability                              10701 non-null  object \n",
      " 51  availability_30                               10701 non-null  int64  \n",
      " 52  availability_60                               10701 non-null  int64  \n",
      " 53  availability_90                               10701 non-null  int64  \n",
      " 54  availability_365                              10701 non-null  int64  \n",
      " 55  calendar_last_scraped                         10701 non-null  object \n",
      " 56  number_of_reviews                             10701 non-null  int64  \n",
      " 57  number_of_reviews_ltm                         10701 non-null  int64  \n",
      " 58  number_of_reviews_l30d                        10701 non-null  int64  \n",
      " 59  first_review                                  9127 non-null   object \n",
      " 60  last_review                                   9127 non-null   object \n",
      " 61  review_scores_rating                          9127 non-null   float64\n",
      " 62  review_scores_accuracy                        9030 non-null   float64\n",
      " 63  review_scores_cleanliness                     9032 non-null   float64\n",
      " 64  review_scores_checkin                         9028 non-null   float64\n",
      " 65  review_scores_communication                   9030 non-null   float64\n",
      " 66  review_scores_location                        9028 non-null   float64\n",
      " 67  review_scores_value                           9028 non-null   float64\n",
      " 68  license                                       3806 non-null   object \n",
      " 69  instant_bookable                              10701 non-null  object \n",
      " 70  calculated_host_listings_count                10701 non-null  int64  \n",
      " 71  calculated_host_listings_count_entire_homes   10701 non-null  int64  \n",
      " 72  calculated_host_listings_count_private_rooms  10701 non-null  int64  \n",
      " 73  calculated_host_listings_count_shared_rooms   10701 non-null  int64  \n",
      " 74  reviews_per_month                             9127 non-null   float64\n",
      " 75  Bath                                          10694 non-null  string \n",
      " 76  nb                                            10694 non-null  float64\n",
      " 77  type                                          10694 non-null  float64\n",
      " 78  popo                                          10694 non-null  float64\n",
      " 79  lenghth                                       10701 non-null  int64  \n",
      "dtypes: float64(19), int64(24), object(34), string(3)\n",
      "memory usage: 6.6+ MB\n"
     ]
    }
   ],
   "source": [
    "pf.info()\n"
   ]
  },
  {
   "cell_type": "markdown",
   "metadata": {},
   "source": [
    "On suspecte des faux commentaires. Pour identifier cela on regarde les séjours où le nom de l’host est le même que le nom du reviewer. Quel est ce pourcentage général de séjour où le nom de l'host est identique au nom du reviewer?"
   ]
  },
  {
   "cell_type": "markdown",
   "metadata": {},
   "source": [
    "comme on a pas le nom du reviewer dans listing , mais dans reviews , on va devoir \"merge\" listingsB et reviews "
   ]
  },
  {
   "cell_type": "code",
   "execution_count": 137,
   "metadata": {},
   "outputs": [],
   "source": [
    "revdf = pd.read_csv(\"reviewsdet.csv\")"
   ]
  },
  {
   "cell_type": "code",
   "execution_count": 138,
   "metadata": {},
   "outputs": [
    {
     "name": "stderr",
     "output_type": "stream",
     "text": [
      "/tmp/ipykernel_5780/3741415836.py:1: SettingWithCopyWarning: \n",
      "A value is trying to be set on a copy of a slice from a DataFrame.\n",
      "Try using .loc[row_indexer,col_indexer] = value instead\n",
      "\n",
      "See the caveats in the documentation: https://pandas.pydata.org/pandas-docs/stable/user_guide/indexing.html#returning-a-view-versus-a-copy\n",
      "  pf[\"comments\"]= pf[\"description\"]\n"
     ]
    }
   ],
   "source": [
    "pf[\"comments\"]= pf[\"description\"]"
   ]
  },
  {
   "cell_type": "code",
   "execution_count": 139,
   "metadata": {},
   "outputs": [
    {
     "data": {
      "text/plain": [
       "Index(['listing_id', 'id', 'date', 'reviewer_id', 'reviewer_name', 'comments'], dtype='object')"
      ]
     },
     "execution_count": 139,
     "metadata": {},
     "output_type": "execute_result"
    }
   ],
   "source": [
    "revdf.columns"
   ]
  },
  {
   "cell_type": "code",
   "execution_count": 140,
   "metadata": {},
   "outputs": [
    {
     "data": {
      "text/plain": [
       "0            610681\n",
       "1           2005513\n",
       "2           1937156\n",
       "3           2001261\n",
       "4           1766812\n",
       "            ...    \n",
       "306351     40877952\n",
       "306352    151433357\n",
       "306353    422815067\n",
       "306354    270567347\n",
       "306355      7357008\n",
       "Name: reviewer_id, Length: 306356, dtype: int64"
      ]
     },
     "execution_count": 140,
     "metadata": {},
     "output_type": "execute_result"
    }
   ],
   "source": [
    "revdf.reviewer_id"
   ]
  },
  {
   "cell_type": "markdown",
   "metadata": {},
   "source": []
  },
  {
   "cell_type": "markdown",
   "metadata": {},
   "source": []
  },
  {
   "cell_type": "code",
   "execution_count": 141,
   "metadata": {},
   "outputs": [],
   "source": [
    "pp = pf.merge(revdf, left_on='id', right_on='listing_id')  "
   ]
  },
  {
   "cell_type": "code",
   "execution_count": 142,
   "metadata": {},
   "outputs": [],
   "source": [
    "tricheur = pp[pp['host_name']==pp['reviewer_name']].shape[0]"
   ]
  },
  {
   "cell_type": "code",
   "execution_count": 143,
   "metadata": {},
   "outputs": [
    {
     "data": {
      "text/plain": [
       "561"
      ]
     },
     "execution_count": 143,
     "metadata": {},
     "output_type": "execute_result"
    }
   ],
   "source": [
    "tricheur"
   ]
  },
  {
   "cell_type": "code",
   "execution_count": 144,
   "metadata": {},
   "outputs": [],
   "source": [
    "equal_percent = tricheur/pp.shape[0]*100  "
   ]
  },
  {
   "cell_type": "code",
   "execution_count": 145,
   "metadata": {},
   "outputs": [
    {
     "data": {
      "text/plain": [
       "304879"
      ]
     },
     "execution_count": 145,
     "metadata": {},
     "output_type": "execute_result"
    }
   ],
   "source": [
    "pp.shape[0]"
   ]
  },
  {
   "cell_type": "code",
   "execution_count": 146,
   "metadata": {},
   "outputs": [
    {
     "data": {
      "text/plain": [
       "0.1840074258968312"
      ]
     },
     "execution_count": 146,
     "metadata": {},
     "output_type": "execute_result"
    }
   ],
   "source": [
    "equal_percent"
   ]
  },
  {
   "cell_type": "code",
   "execution_count": 155,
   "metadata": {},
   "outputs": [
    {
     "data": {
      "text/html": [
       "<div>\n",
       "<style scoped>\n",
       "    .dataframe tbody tr th:only-of-type {\n",
       "        vertical-align: middle;\n",
       "    }\n",
       "\n",
       "    .dataframe tbody tr th {\n",
       "        vertical-align: top;\n",
       "    }\n",
       "\n",
       "    .dataframe thead th {\n",
       "        text-align: right;\n",
       "    }\n",
       "</style>\n",
       "<table border=\"1\" class=\"dataframe\">\n",
       "  <thead>\n",
       "    <tr style=\"text-align: right;\">\n",
       "      <th></th>\n",
       "      <th>id</th>\n",
       "      <th>listing_url</th>\n",
       "      <th>scrape_id</th>\n",
       "      <th>last_scraped</th>\n",
       "      <th>source</th>\n",
       "      <th>name</th>\n",
       "      <th>description</th>\n",
       "      <th>neighborhood_overview</th>\n",
       "      <th>picture_url</th>\n",
       "      <th>host_id</th>\n",
       "      <th>...</th>\n",
       "      <th>calculated_host_listings_count_entire_homes</th>\n",
       "      <th>calculated_host_listings_count_private_rooms</th>\n",
       "      <th>calculated_host_listings_count_shared_rooms</th>\n",
       "      <th>reviews_per_month</th>\n",
       "      <th>Bath</th>\n",
       "      <th>nb</th>\n",
       "      <th>type</th>\n",
       "      <th>popo</th>\n",
       "      <th>lenghth</th>\n",
       "      <th>comments</th>\n",
       "    </tr>\n",
       "  </thead>\n",
       "  <tbody>\n",
       "    <tr>\n",
       "      <th>0</th>\n",
       "      <td>579652405189065070</td>\n",
       "      <td>https://www.airbnb.com/rooms/579652405189065070</td>\n",
       "      <td>20220912200234</td>\n",
       "      <td>2022-09-12</td>\n",
       "      <td>city scrape</td>\n",
       "      <td>Appartement cosy dans centre historique de Bourg</td>\n",
       "      <td>Dans le centre historique de Bourg, idéalement...</td>\n",
       "      <td>Vous vous situez dans le centre historique de ...</td>\n",
       "      <td>https://a0.muscache.com/pictures/miso/Hosting-...</td>\n",
       "      <td>15134863</td>\n",
       "      <td>...</td>\n",
       "      <td>1</td>\n",
       "      <td>0</td>\n",
       "      <td>0</td>\n",
       "      <td>2.74</td>\n",
       "      <td>1.5 1</td>\n",
       "      <td>1.5</td>\n",
       "      <td>1.0</td>\n",
       "      <td>1.5</td>\n",
       "      <td>1000</td>\n",
       "      <td>Dans le centre historique de Bourg, idéalement...</td>\n",
       "    </tr>\n",
       "    <tr>\n",
       "      <th>1</th>\n",
       "      <td>49797548</td>\n",
       "      <td>https://www.airbnb.com/rooms/49797548</td>\n",
       "      <td>20220912200234</td>\n",
       "      <td>2022-09-12</td>\n",
       "      <td>city scrape</td>\n",
       "      <td>Maison de vacances entre Bordeaux et le Bassin</td>\n",
       "      <td>Villa moderne idéalement située entre Bordeaux...</td>\n",
       "      <td>Ballades à pied ou à vélo dans la foret: 5 vél...</td>\n",
       "      <td>https://a0.muscache.com/pictures/miso/Hosting-...</td>\n",
       "      <td>83677621</td>\n",
       "      <td>...</td>\n",
       "      <td>1</td>\n",
       "      <td>0</td>\n",
       "      <td>0</td>\n",
       "      <td>0.21</td>\n",
       "      <td>3 1</td>\n",
       "      <td>3.0</td>\n",
       "      <td>1.0</td>\n",
       "      <td>3.0</td>\n",
       "      <td>912</td>\n",
       "      <td>Villa moderne idéalement située entre Bordeaux...</td>\n",
       "    </tr>\n",
       "    <tr>\n",
       "      <th>2</th>\n",
       "      <td>218103</td>\n",
       "      <td>https://www.airbnb.com/rooms/218103</td>\n",
       "      <td>20220912200234</td>\n",
       "      <td>2022-09-13</td>\n",
       "      <td>city scrape</td>\n",
       "      <td>B&amp;B Apart.Suite  / tropical garden</td>\n",
       "      <td>&lt;b&gt;The space&lt;/b&gt;&lt;br /&gt;The Bambooyard  : \"Le cl...</td>\n",
       "      <td>NaN</td>\n",
       "      <td>https://a0.muscache.com/pictures/9ba23c8f-4780...</td>\n",
       "      <td>1127981</td>\n",
       "      <td>...</td>\n",
       "      <td>4</td>\n",
       "      <td>0</td>\n",
       "      <td>0</td>\n",
       "      <td>0.44</td>\n",
       "      <td>1 1</td>\n",
       "      <td>1.0</td>\n",
       "      <td>1.0</td>\n",
       "      <td>1.0</td>\n",
       "      <td>1000</td>\n",
       "      <td>&lt;b&gt;The space&lt;/b&gt;&lt;br /&gt;The Bambooyard  : \"Le cl...</td>\n",
       "    </tr>\n",
       "    <tr>\n",
       "      <th>3</th>\n",
       "      <td>1117474</td>\n",
       "      <td>https://www.airbnb.com/rooms/1117474</td>\n",
       "      <td>20220912200234</td>\n",
       "      <td>2022-09-13</td>\n",
       "      <td>city scrape</td>\n",
       "      <td>INCROYABLE T3 EN HYPERCENTRE</td>\n",
       "      <td>&lt;b&gt;The space&lt;/b&gt;&lt;br /&gt;In the heart of the hist...</td>\n",
       "      <td>NaN</td>\n",
       "      <td>https://a0.muscache.com/pictures/20359851/80f7...</td>\n",
       "      <td>6133211</td>\n",
       "      <td>...</td>\n",
       "      <td>1</td>\n",
       "      <td>0</td>\n",
       "      <td>0</td>\n",
       "      <td>3.31</td>\n",
       "      <td>1 1</td>\n",
       "      <td>1.0</td>\n",
       "      <td>1.0</td>\n",
       "      <td>1.0</td>\n",
       "      <td>1000</td>\n",
       "      <td>&lt;b&gt;The space&lt;/b&gt;&lt;br /&gt;In the heart of the hist...</td>\n",
       "    </tr>\n",
       "    <tr>\n",
       "      <th>4</th>\n",
       "      <td>1136724</td>\n",
       "      <td>https://www.airbnb.com/rooms/1136724</td>\n",
       "      <td>20220912200234</td>\n",
       "      <td>2022-09-12</td>\n",
       "      <td>city scrape</td>\n",
       "      <td>Spacious house, 4 guests with Garden &amp; Garage</td>\n",
       "      <td>BOOK A STREET ART HOUSE! Cozy, colorful and cl...</td>\n",
       "      <td>NaN</td>\n",
       "      <td>https://a0.muscache.com/pictures/b876925a-2b69...</td>\n",
       "      <td>3774373</td>\n",
       "      <td>...</td>\n",
       "      <td>4</td>\n",
       "      <td>0</td>\n",
       "      <td>0</td>\n",
       "      <td>4.36</td>\n",
       "      <td>1 1</td>\n",
       "      <td>1.0</td>\n",
       "      <td>1.0</td>\n",
       "      <td>1.0</td>\n",
       "      <td>1000</td>\n",
       "      <td>BOOK A STREET ART HOUSE! Cozy, colorful and cl...</td>\n",
       "    </tr>\n",
       "    <tr>\n",
       "      <th>...</th>\n",
       "      <td>...</td>\n",
       "      <td>...</td>\n",
       "      <td>...</td>\n",
       "      <td>...</td>\n",
       "      <td>...</td>\n",
       "      <td>...</td>\n",
       "      <td>...</td>\n",
       "      <td>...</td>\n",
       "      <td>...</td>\n",
       "      <td>...</td>\n",
       "      <td>...</td>\n",
       "      <td>...</td>\n",
       "      <td>...</td>\n",
       "      <td>...</td>\n",
       "      <td>...</td>\n",
       "      <td>...</td>\n",
       "      <td>...</td>\n",
       "      <td>...</td>\n",
       "      <td>...</td>\n",
       "      <td>...</td>\n",
       "      <td>...</td>\n",
       "    </tr>\n",
       "    <tr>\n",
       "      <th>10880</th>\n",
       "      <td>591221838086690180</td>\n",
       "      <td>https://www.airbnb.com/rooms/591221838086690180</td>\n",
       "      <td>20220912200234</td>\n",
       "      <td>2022-09-13</td>\n",
       "      <td>previous scrape</td>\n",
       "      <td>Maison chaleureuse avec piscine près de Bordeaux</td>\n",
       "      <td>Bienvenue dans notre maison ! &lt;br /&gt;C'est notr...</td>\n",
       "      <td>Nous sommes situés à 20 min de la gare de bord...</td>\n",
       "      <td>https://a0.muscache.com/pictures/miso/Hosting-...</td>\n",
       "      <td>5220890</td>\n",
       "      <td>...</td>\n",
       "      <td>1</td>\n",
       "      <td>0</td>\n",
       "      <td>0</td>\n",
       "      <td>NaN</td>\n",
       "      <td>2 1</td>\n",
       "      <td>2.0</td>\n",
       "      <td>1.0</td>\n",
       "      <td>2.0</td>\n",
       "      <td>1000</td>\n",
       "      <td>Bienvenue dans notre maison ! &lt;br /&gt;C'est notr...</td>\n",
       "    </tr>\n",
       "    <tr>\n",
       "      <th>10881</th>\n",
       "      <td>50594474</td>\n",
       "      <td>https://www.airbnb.com/rooms/50594474</td>\n",
       "      <td>20220912200234</td>\n",
       "      <td>2022-09-13</td>\n",
       "      <td>city scrape</td>\n",
       "      <td>Le clos des vignes****</td>\n",
       "      <td>À 20 minutes de Bordeaux et à 3 minutes des so...</td>\n",
       "      <td>NaN</td>\n",
       "      <td>https://a0.muscache.com/pictures/miso/Hosting-...</td>\n",
       "      <td>408562043</td>\n",
       "      <td>...</td>\n",
       "      <td>2</td>\n",
       "      <td>0</td>\n",
       "      <td>0</td>\n",
       "      <td>5.73</td>\n",
       "      <td>1 1</td>\n",
       "      <td>1.0</td>\n",
       "      <td>1.0</td>\n",
       "      <td>1.0</td>\n",
       "      <td>1000</td>\n",
       "      <td>À 20 minutes de Bordeaux et à 3 minutes des so...</td>\n",
       "    </tr>\n",
       "    <tr>\n",
       "      <th>10882</th>\n",
       "      <td>556379338554707629</td>\n",
       "      <td>https://www.airbnb.com/rooms/556379338554707629</td>\n",
       "      <td>20220912200234</td>\n",
       "      <td>2022-09-13</td>\n",
       "      <td>city scrape</td>\n",
       "      <td>escale gourmande au coeur des vignobles</td>\n",
       "      <td>studio independant comportant:&lt;br /&gt;&lt;br /&gt; une...</td>\n",
       "      <td>quartier calme ambiance vigne et campagne à 2 ...</td>\n",
       "      <td>https://a0.muscache.com/pictures/6349e9f7-cdce...</td>\n",
       "      <td>62440676</td>\n",
       "      <td>...</td>\n",
       "      <td>2</td>\n",
       "      <td>1</td>\n",
       "      <td>0</td>\n",
       "      <td>6.11</td>\n",
       "      <td>1 1</td>\n",
       "      <td>1.0</td>\n",
       "      <td>1.0</td>\n",
       "      <td>1.0</td>\n",
       "      <td>809</td>\n",
       "      <td>studio independant comportant:&lt;br /&gt;&lt;br /&gt; une...</td>\n",
       "    </tr>\n",
       "    <tr>\n",
       "      <th>10883</th>\n",
       "      <td>16789721</td>\n",
       "      <td>https://www.airbnb.com/rooms/16789721</td>\n",
       "      <td>20220912200234</td>\n",
       "      <td>2022-09-13</td>\n",
       "      <td>previous scrape</td>\n",
       "      <td>Logement aux portes de Bordeaux et de l'océan</td>\n",
       "      <td>Situé au départ de la route des châteaux, à 10...</td>\n",
       "      <td>Quartier calme</td>\n",
       "      <td>https://a0.muscache.com/pictures/miso/Hosting-...</td>\n",
       "      <td>111565429</td>\n",
       "      <td>...</td>\n",
       "      <td>1</td>\n",
       "      <td>0</td>\n",
       "      <td>0</td>\n",
       "      <td>0.26</td>\n",
       "      <td>1 1</td>\n",
       "      <td>1.0</td>\n",
       "      <td>1.0</td>\n",
       "      <td>1.0</td>\n",
       "      <td>1000</td>\n",
       "      <td>Situé au départ de la route des châteaux, à 10...</td>\n",
       "    </tr>\n",
       "    <tr>\n",
       "      <th>10884</th>\n",
       "      <td>678024184489558143</td>\n",
       "      <td>https://www.airbnb.com/rooms/678024184489558143</td>\n",
       "      <td>20220912200234</td>\n",
       "      <td>2022-09-13</td>\n",
       "      <td>previous scrape</td>\n",
       "      <td>Jolie maison familiale avec jardin paysagé</td>\n",
       "      <td>Notre maison familiale se situe dans un lotiss...</td>\n",
       "      <td>Notre maison se trouve dans un petit lotisseme...</td>\n",
       "      <td>https://a0.muscache.com/pictures/miso/Hosting-...</td>\n",
       "      <td>23002270</td>\n",
       "      <td>...</td>\n",
       "      <td>1</td>\n",
       "      <td>0</td>\n",
       "      <td>0</td>\n",
       "      <td>NaN</td>\n",
       "      <td>1 1</td>\n",
       "      <td>1.0</td>\n",
       "      <td>1.0</td>\n",
       "      <td>1.0</td>\n",
       "      <td>1000</td>\n",
       "      <td>Notre maison familiale se situe dans un lotiss...</td>\n",
       "    </tr>\n",
       "  </tbody>\n",
       "</table>\n",
       "<p>10701 rows × 81 columns</p>\n",
       "</div>"
      ],
      "text/plain": [
       "                       id                                      listing_url  \\\n",
       "0      579652405189065070  https://www.airbnb.com/rooms/579652405189065070   \n",
       "1                49797548            https://www.airbnb.com/rooms/49797548   \n",
       "2                  218103              https://www.airbnb.com/rooms/218103   \n",
       "3                 1117474             https://www.airbnb.com/rooms/1117474   \n",
       "4                 1136724             https://www.airbnb.com/rooms/1136724   \n",
       "...                   ...                                              ...   \n",
       "10880  591221838086690180  https://www.airbnb.com/rooms/591221838086690180   \n",
       "10881            50594474            https://www.airbnb.com/rooms/50594474   \n",
       "10882  556379338554707629  https://www.airbnb.com/rooms/556379338554707629   \n",
       "10883            16789721            https://www.airbnb.com/rooms/16789721   \n",
       "10884  678024184489558143  https://www.airbnb.com/rooms/678024184489558143   \n",
       "\n",
       "            scrape_id last_scraped           source  \\\n",
       "0      20220912200234   2022-09-12      city scrape   \n",
       "1      20220912200234   2022-09-12      city scrape   \n",
       "2      20220912200234   2022-09-13      city scrape   \n",
       "3      20220912200234   2022-09-13      city scrape   \n",
       "4      20220912200234   2022-09-12      city scrape   \n",
       "...               ...          ...              ...   \n",
       "10880  20220912200234   2022-09-13  previous scrape   \n",
       "10881  20220912200234   2022-09-13      city scrape   \n",
       "10882  20220912200234   2022-09-13      city scrape   \n",
       "10883  20220912200234   2022-09-13  previous scrape   \n",
       "10884  20220912200234   2022-09-13  previous scrape   \n",
       "\n",
       "                                                   name  \\\n",
       "0      Appartement cosy dans centre historique de Bourg   \n",
       "1        Maison de vacances entre Bordeaux et le Bassin   \n",
       "2                    B&B Apart.Suite  / tropical garden   \n",
       "3                          INCROYABLE T3 EN HYPERCENTRE   \n",
       "4         Spacious house, 4 guests with Garden & Garage   \n",
       "...                                                 ...   \n",
       "10880  Maison chaleureuse avec piscine près de Bordeaux   \n",
       "10881                            Le clos des vignes****   \n",
       "10882           escale gourmande au coeur des vignobles   \n",
       "10883     Logement aux portes de Bordeaux et de l'océan   \n",
       "10884        Jolie maison familiale avec jardin paysagé   \n",
       "\n",
       "                                             description  \\\n",
       "0      Dans le centre historique de Bourg, idéalement...   \n",
       "1      Villa moderne idéalement située entre Bordeaux...   \n",
       "2      <b>The space</b><br />The Bambooyard  : \"Le cl...   \n",
       "3      <b>The space</b><br />In the heart of the hist...   \n",
       "4      BOOK A STREET ART HOUSE! Cozy, colorful and cl...   \n",
       "...                                                  ...   \n",
       "10880  Bienvenue dans notre maison ! <br />C'est notr...   \n",
       "10881  À 20 minutes de Bordeaux et à 3 minutes des so...   \n",
       "10882  studio independant comportant:<br /><br /> une...   \n",
       "10883  Situé au départ de la route des châteaux, à 10...   \n",
       "10884  Notre maison familiale se situe dans un lotiss...   \n",
       "\n",
       "                                   neighborhood_overview  \\\n",
       "0      Vous vous situez dans le centre historique de ...   \n",
       "1      Ballades à pied ou à vélo dans la foret: 5 vél...   \n",
       "2                                                    NaN   \n",
       "3                                                    NaN   \n",
       "4                                                    NaN   \n",
       "...                                                  ...   \n",
       "10880  Nous sommes situés à 20 min de la gare de bord...   \n",
       "10881                                                NaN   \n",
       "10882  quartier calme ambiance vigne et campagne à 2 ...   \n",
       "10883                                     Quartier calme   \n",
       "10884  Notre maison se trouve dans un petit lotisseme...   \n",
       "\n",
       "                                             picture_url    host_id  ...  \\\n",
       "0      https://a0.muscache.com/pictures/miso/Hosting-...   15134863  ...   \n",
       "1      https://a0.muscache.com/pictures/miso/Hosting-...   83677621  ...   \n",
       "2      https://a0.muscache.com/pictures/9ba23c8f-4780...    1127981  ...   \n",
       "3      https://a0.muscache.com/pictures/20359851/80f7...    6133211  ...   \n",
       "4      https://a0.muscache.com/pictures/b876925a-2b69...    3774373  ...   \n",
       "...                                                  ...        ...  ...   \n",
       "10880  https://a0.muscache.com/pictures/miso/Hosting-...    5220890  ...   \n",
       "10881  https://a0.muscache.com/pictures/miso/Hosting-...  408562043  ...   \n",
       "10882  https://a0.muscache.com/pictures/6349e9f7-cdce...   62440676  ...   \n",
       "10883  https://a0.muscache.com/pictures/miso/Hosting-...  111565429  ...   \n",
       "10884  https://a0.muscache.com/pictures/miso/Hosting-...   23002270  ...   \n",
       "\n",
       "      calculated_host_listings_count_entire_homes  \\\n",
       "0                                               1   \n",
       "1                                               1   \n",
       "2                                               4   \n",
       "3                                               1   \n",
       "4                                               4   \n",
       "...                                           ...   \n",
       "10880                                           1   \n",
       "10881                                           2   \n",
       "10882                                           2   \n",
       "10883                                           1   \n",
       "10884                                           1   \n",
       "\n",
       "      calculated_host_listings_count_private_rooms  \\\n",
       "0                                                0   \n",
       "1                                                0   \n",
       "2                                                0   \n",
       "3                                                0   \n",
       "4                                                0   \n",
       "...                                            ...   \n",
       "10880                                            0   \n",
       "10881                                            0   \n",
       "10882                                            1   \n",
       "10883                                            0   \n",
       "10884                                            0   \n",
       "\n",
       "      calculated_host_listings_count_shared_rooms reviews_per_month   Bath  \\\n",
       "0                                               0              2.74  1.5 1   \n",
       "1                                               0              0.21    3 1   \n",
       "2                                               0              0.44    1 1   \n",
       "3                                               0              3.31    1 1   \n",
       "4                                               0              4.36    1 1   \n",
       "...                                           ...               ...    ...   \n",
       "10880                                           0               NaN    2 1   \n",
       "10881                                           0              5.73    1 1   \n",
       "10882                                           0              6.11    1 1   \n",
       "10883                                           0              0.26    1 1   \n",
       "10884                                           0               NaN    1 1   \n",
       "\n",
       "        nb type popo lenghth  \\\n",
       "0      1.5  1.0  1.5    1000   \n",
       "1      3.0  1.0  3.0     912   \n",
       "2      1.0  1.0  1.0    1000   \n",
       "3      1.0  1.0  1.0    1000   \n",
       "4      1.0  1.0  1.0    1000   \n",
       "...    ...  ...  ...     ...   \n",
       "10880  2.0  1.0  2.0    1000   \n",
       "10881  1.0  1.0  1.0    1000   \n",
       "10882  1.0  1.0  1.0     809   \n",
       "10883  1.0  1.0  1.0    1000   \n",
       "10884  1.0  1.0  1.0    1000   \n",
       "\n",
       "                                                comments  \n",
       "0      Dans le centre historique de Bourg, idéalement...  \n",
       "1      Villa moderne idéalement située entre Bordeaux...  \n",
       "2      <b>The space</b><br />The Bambooyard  : \"Le cl...  \n",
       "3      <b>The space</b><br />In the heart of the hist...  \n",
       "4      BOOK A STREET ART HOUSE! Cozy, colorful and cl...  \n",
       "...                                                  ...  \n",
       "10880  Bienvenue dans notre maison ! <br />C'est notr...  \n",
       "10881  À 20 minutes de Bordeaux et à 3 minutes des so...  \n",
       "10882  studio independant comportant:<br /><br /> une...  \n",
       "10883  Situé au départ de la route des châteaux, à 10...  \n",
       "10884  Notre maison familiale se situe dans un lotiss...  \n",
       "\n",
       "[10701 rows x 81 columns]"
      ]
     },
     "execution_count": 155,
     "metadata": {},
     "output_type": "execute_result"
    }
   ],
   "source": [
    "pf"
   ]
  },
  {
   "cell_type": "code",
   "execution_count": null,
   "metadata": {},
   "outputs": [],
   "source": []
  }
 ],
 "metadata": {
  "kernelspec": {
   "display_name": "Python 3.9.15 ('kmpp')",
   "language": "python",
   "name": "python3"
  },
  "language_info": {
   "codemirror_mode": {
    "name": "ipython",
    "version": 3
   },
   "file_extension": ".py",
   "mimetype": "text/x-python",
   "name": "python",
   "nbconvert_exporter": "python",
   "pygments_lexer": "ipython3",
   "version": "3.9.15"
  },
  "orig_nbformat": 4,
  "vscode": {
   "interpreter": {
    "hash": "134c4dc1bc3e0440fd45e6dae2e7c04fe162a36fccfae1db6bf457adc1656543"
   }
  }
 },
 "nbformat": 4,
 "nbformat_minor": 2
}
